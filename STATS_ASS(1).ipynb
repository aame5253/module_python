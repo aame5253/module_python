{
  "nbformat": 4,
  "nbformat_minor": 0,
  "metadata": {
    "colab": {
      "provenance": []
    },
    "kernelspec": {
      "name": "python3",
      "display_name": "Python 3"
    },
    "language_info": {
      "name": "python"
    }
  },
  "cells": [
    {
      "cell_type": "code",
      "execution_count": null,
      "metadata": {
        "id": "qgTP3AL0YXiW",
        "colab": {
          "base_uri": "https://localhost:8080/",
          "height": 128
        },
        "outputId": "9958851c-69a3-4831-d626-f1e51b281008"
      },
      "outputs": [
        {
          "output_type": "execute_result",
          "data": {
            "text/plain": [
              "'\\nQualitative Data:\\nQualitative data is non-numerical and describes characteristics or qualities of something. It is often descriptive and categorical in nature.\\n\\nNominal Data:\\nNominal data is categorical and has no inherent order or hierarchy. Examples include gender, color, and nationality.\\nOrdinal Data:\\nOrdinal data is categorical and has a natural order or hierarchy. Examples include educational level (high school, college, graduate),grade(A,B,C) \\n \\nQuantitative Data:\\nQuantitative data is numerical and can be measured or counted. It is often used to describe quantities or amounts.\\n\\nInterval Data:\\nInterval data is numerical and has equal intervals between consecutive values, but it does not have a true zero point (have decimal values).Examples include IQ scores,\\nand stock prices.\\n\\nRatio Data:\\nRatio data is numerical and has a true zero point, allowing for meaningful ratios and proportions. Examples include height, weight, and age.\\n\\n'"
            ],
            "application/vnd.google.colaboratory.intrinsic+json": {
              "type": "string"
            }
          },
          "metadata": {},
          "execution_count": 1
        }
      ],
      "source": [
        "#1. Explain the different types of data (qualitative and quantitative) and provide examples of each. Discuss\n",
        "#nominal, ordinal, interval, and ratio scales.\n",
        "\"\"\"\n",
        "Qualitative Data:\n",
        "Qualitative data is non-numerical and describes characteristics or qualities of something. It is often descriptive and categorical in nature.\n",
        "\n",
        "Nominal Data:\n",
        "Nominal data is categorical and has no inherent order or hierarchy. Examples include gender, color, and nationality.\n",
        "bar plot and piechart can be used for visualization.\n",
        "Ordinal Data:\n",
        "Ordinal data is categorical and has a natural order or hierarchy. Examples include educational level (high school, college, graduate),grade(A,B,C)\n",
        "bar plot and piechart can be used for visualization.\n",
        "\n",
        "Quantitative Data:\n",
        "Quantitative data is numerical and can be measured or counted. It is often used to describe quantities or amounts.\n",
        "\n",
        "Interval Data:\n",
        "Interval data is numerical and has equal intervals between consecutive values, but it does not have a true zero point.Rank and order matters and difference\n",
        "can be measured.Examples include scores,temperature & stock prices.\n",
        "scatter plot and histograms can be used for visualization.\n",
        "Ratio Data:\n",
        "Ratio data is numerical and has a true zero point, allowing for meaningful ratios and proportions.Rank and order matters and difference can be measured.\n",
        "Examples include height, weight, and age.\n",
        "\n",
        "\"\"\""
      ]
    },
    {
      "cell_type": "code",
      "source": [
        "#2. What are the measures of central tendency, and when should you use each? Discuss the mean, median,\n",
        "#and mode with examples and situations where each is appropriate.\n",
        "\"\"\"Measures of central tendency are statistical values that describe the middle or average value or the frequency of a dataset.\n",
        " There are three main measures of central tendency: the mean, median, and mode.\"\"\"\n",
        "\n",
        "'''\n",
        "Mean: The mean, also known as the arithmetic mean, is the sum of all values divided by the number of values. It's\n",
        "sensitive to outliers, which are extreme values that are far away from the rest of the data.\n",
        "When to use the mean:\n",
        "\n",
        "When the data is normally distributed (follows a bell-shaped curve)\n",
        "When you want to calculate the average value of a dataset\n",
        "When the data is continuous and interval-scaled\n",
        "'''\n",
        "import numpy as np\n",
        "l=[13,30,20,7,6,2,22,20,30]\n",
        "a=np.mean(l)\n",
        "print('mean of the numbers is :',a)\n",
        "'''\n",
        "Median: The median is the middle value of a dataset when it's arranged in order. If the dataset has an even number of values,\n",
        "the median is the average of the two middle values.\n",
        "When to use the median:\n",
        "\n",
        "When the data is not normally distributed or contains outliers\n",
        "When you want a more robust measure of central tendency\n",
        "When the data is ordinal-scaled\n",
        "'''\n",
        "b=np.median(l)\n",
        "print('median of the numbers is :',b)\n",
        "'''\n",
        "Mode: The mode is the value that appears most frequently in a dataset.\n",
        "When the data is categorical (e.g., colors, genders, occupations)\n",
        "When you want to identify the most common value in a dataset\n",
        "When the data is nominal-scaled\n",
        "'''\n",
        "import statistics as stats\n",
        "data = ['Python', 'Java', 'Python', 'C++', 'Python', 'JavaScript', 'Java', 'Python']\n",
        "c = stats.mode(data)\n",
        "\n",
        "print(\"Mode for a given data is:\", c)"
      ],
      "metadata": {
        "id": "73s3BoCqYr8_",
        "colab": {
          "base_uri": "https://localhost:8080/"
        },
        "outputId": "d16e1f74-500b-41c7-f2fd-c582f6090135"
      },
      "execution_count": null,
      "outputs": [
        {
          "output_type": "stream",
          "name": "stdout",
          "text": [
            "mean of the numbers is : 16.666666666666668\n",
            "median of the numbers is : 20.0\n",
            "Mode for a given data is: Python\n"
          ]
        }
      ]
    },
    {
      "cell_type": "code",
      "source": [
        "#3. Explain the concept of dispersion. How do variance and standard deviation measure the spread of data?\n",
        "\"\"\"\n",
        "Dispersion, also known as spread or scatter, refers to the extent to which data points in a dataset deviate\n",
        "from their central tendency, such as the mean.\n",
        "Variance and standard deviation are two commonly used measures of dispersion.\n",
        "\"\"\"\n",
        "\"\"\"\n",
        "Variance: Variance is a measure of how much each data point deviates from the mean. It's calculated as the average of the\n",
        "squared differences between each data point and the mean.\n",
        "Variance (σ²) = Σ(xi - μ)² / (n - 1)\n",
        "\n",
        "Standard Deviation: Standard deviation is the square root of the variance. It's a measure of how much each data point deviates\n",
        "from the mean in the same units as the data.\n",
        "Standard Deviation (σ) = √(Variance)\n",
        "\"\"\""
      ],
      "metadata": {
        "id": "5UVFseEKZEE1",
        "colab": {
          "base_uri": "https://localhost:8080/",
          "height": 70
        },
        "outputId": "8ef58305-0516-4a2d-bdf5-6aa1cc9f6599"
      },
      "execution_count": null,
      "outputs": [
        {
          "output_type": "execute_result",
          "data": {
            "text/plain": [
              "\"\\nVariance: Variance is a measure of how much each data point deviates from the mean. It's calculated as the average of the \\nsquared differences between each data point and the mean.\\nVariance (σ²) = Σ(xi - μ)² / (n - 1)\\n\\nStandard Deviation: Standard deviation is the square root of the variance. It's a measure of how much each data point deviates \\nfrom the mean in the same units as the data.\\nStandard Deviation (σ) = √(Variance)\\n\""
            ],
            "application/vnd.google.colaboratory.intrinsic+json": {
              "type": "string"
            }
          },
          "metadata": {},
          "execution_count": 2
        }
      ]
    },
    {
      "cell_type": "code",
      "source": [
        "#4. What is a box plot, and what can it tell you about the distribution of data?\n",
        "\"\"\"\n",
        "A box plot, also known as a box-and-whisker plot, is a graphical representation of a dataset that displays\n",
        "the distribution of data and provides a quick way to visualize and compare the central tendency,\n",
        "variability, and outliers of the data.\n",
        "\"\"\"\n",
        "\"\"\"\n",
        "Central Tendency: The median (middle line) gives you an idea of the central tendency of the data.\n",
        "\n",
        "Variability: The length of the box (IQR) and the whiskers indicate the variability or spread of the data.\n",
        "\n",
        "Skewness: If the median is not in the center of the box, it may indicate skewness in the data. If the median is closer to Q3,\n",
        "the data is skewed to the right, and if it's closer to Q1, the data is skewed to the left.\n",
        "\n",
        "Outliers: The presence of outliers can indicate errors in data collection, unusual patterns, or special cases\n",
        "\"\"\""
      ],
      "metadata": {
        "id": "U2Xy92PmZHmm",
        "colab": {
          "base_uri": "https://localhost:8080/",
          "height": 87
        },
        "outputId": "530a95d0-ebe0-4640-8571-4224268a3e1b"
      },
      "execution_count": null,
      "outputs": [
        {
          "output_type": "execute_result",
          "data": {
            "text/plain": [
              "\"\\nCentral Tendency: The median (middle line) gives you an idea of the central tendency of the data.\\n\\nVariability: The length of the box (IQR) and the whiskers indicate the variability or spread of the data.\\n\\nSkewness: If the median is not in the center of the box, it may indicate skewness in the data. If the median is closer to Q3,\\nthe data is skewed to the right, and if it's closer to Q1, the data is skewed to the left.\\n\\nOutliers: The presence of outliers can indicate errors in data collection, unusual patterns, or special cases \\n\""
            ],
            "application/vnd.google.colaboratory.intrinsic+json": {
              "type": "string"
            }
          },
          "metadata": {},
          "execution_count": 3
        }
      ]
    },
    {
      "cell_type": "code",
      "source": [
        "#5. Discuss the role of random sampling in making inferences about populations.\n",
        "\"\"\"\n",
        "By using random sampling, we can make inferences about the population, including:\n",
        "\n",
        "Estimating population parameters: We can estimate population parameters, such as means, proportions, or percentages, based on the sample data.\n",
        "Testing hypotheses: We can test hypotheses about the population based on the sample data.\n",
        "Making predictions: We can make predictions about the population based on the sample data.\n",
        "\"\"\""
      ],
      "metadata": {
        "id": "M7njQUKVZLsj",
        "colab": {
          "base_uri": "https://localhost:8080/",
          "height": 70
        },
        "outputId": "f393592f-6115-4c47-855e-46d4f422f6fd"
      },
      "execution_count": null,
      "outputs": [
        {
          "output_type": "execute_result",
          "data": {
            "text/plain": [
              "'\\nBy using random sampling, we can make inferences about the population, including:\\n\\nEstimating population parameters: We can estimate population parameters, such as means, proportions, or percentages, based on the sample data.\\nTesting hypotheses: We can test hypotheses about the population based on the sample data.\\nMaking predictions: We can make predictions about the population based on the sample data.\\n'"
            ],
            "application/vnd.google.colaboratory.intrinsic+json": {
              "type": "string"
            }
          },
          "metadata": {},
          "execution_count": 4
        }
      ]
    },
    {
      "cell_type": "code",
      "source": [
        "#6. Explain the concept of skewness and its types. How does skewness affect the interpretation of data?\n",
        "\"\"\"\n",
        "Skewness is a statistical measure that describes the asymmetry of a probability distribution.\n",
        "It quantifies how much a distribution deviates from being perfectly symmetrical, like a normal distribution\n",
        "\"\"\"\n",
        "'''\n",
        "POSITIVE SKEWNESS:(RIGHT SKEWED)\n",
        "A distribution with positive skewness has a longer tail on the right side. This means that there are more extreme\n",
        "values on the right side of the distribution, indicating that the data is more spread out in the positive direction.\n",
        "NEGATIVE SKEWNESS:(LEFT SKEWED)\n",
        "A distribution with negative skewness has a longer tail on the left side. This means that there are more extreme values\n",
        "on the left side of the distribution, indicating that the data is more spread out in the negative direction.\n",
        "NO SKEWNESS:(Symmetrical Distribution)\n",
        "In a distribution with no skewness, the data points are evenly distributed on both sides of the mean, and the mean, median, and mode are equal.\n",
        "\n",
        "AFFECTS:\n",
        "Mean is not representative: In a skewed distribution, the mean is not a representative measure of the central tendency,\n",
        "as it can be influenced by extreme values. The median or mode might be more representative in such cases.\n",
        "\n",
        "Increased variability: Skewed distributions often have higher variability, which can affect the results of statistical analyses and models.\n",
        "\n",
        "Difficulty in modeling: Skewed distributions can be challenging to model using traditional statistical methods, which assume normality or symmetry.\n",
        "\n",
        "Misleading conclusions: If skewness is not accounted for, it can lead to misleading conclusions and incorrect interpretations of the data.\n",
        "\n",
        "Impact on data visualization: Skewed distributions can affect the interpretation of data visualizations, such as histograms and box plots,\n",
        "which may not accurately represent the underlying distribution.\n",
        "'''\n"
      ],
      "metadata": {
        "id": "0ts7aOPWZ_CA",
        "colab": {
          "base_uri": "https://localhost:8080/",
          "height": 140
        },
        "outputId": "aa5602a0-291c-418e-c387-09d9f030637d"
      },
      "execution_count": null,
      "outputs": [
        {
          "output_type": "execute_result",
          "data": {
            "text/plain": [
              "'\\nPOSITIVE SKEWNESS:(RIGHT SKEWED)\\nA distribution with positive skewness has a longer tail on the right side. This means that there are more extreme \\nvalues on the right side of the distribution, indicating that the data is more spread out in the positive direction.\\nNEGATIVE SKEWNESS:(LEFT SKEWED)\\nA distribution with negative skewness has a longer tail on the left side. This means that there are more extreme values \\non the left side of the distribution, indicating that the data is more spread out in the negative direction.\\nNO SKEWNESS:(Symmetrical Distribution)\\nIn a distribution with no skewness, the data points are evenly distributed on both sides of the mean, and the mean, median, and mode are equal.\\n\\nAFFECTS:\\nMean is not representative: In a skewed distribution, the mean is not a representative measure of the central tendency,\\nas it can be influenced by extreme values. The median or mode might be more representative in such cases.\\n\\nIncreased variability: Skewed distributions often have higher variability, which can affect the results of statistical analyses and models.\\n\\nDifficulty in modeling: Skewed distributions can be challenging to model using traditional statistical methods, which assume normality or symmetry.\\n\\nMisleading conclusions: If skewness is not accounted for, it can lead to misleading conclusions and incorrect interpretations of the data.\\n\\nImpact on data visualization: Skewed distributions can affect the interpretation of data visualizations, such as histograms and box plots,\\nwhich may not accurately represent the underlying distribution.\\n'"
            ],
            "application/vnd.google.colaboratory.intrinsic+json": {
              "type": "string"
            }
          },
          "metadata": {},
          "execution_count": 1
        }
      ]
    },
    {
      "cell_type": "code",
      "source": [
        "#7. What is the interquartile range (IQR), and how is it used to detect outliers?\n",
        "\"\"\"\n",
        "The interquartile range (IQR) is a measure of the spread or dispersion of a dataset.\n",
        "It is the difference between the 75th percentile (Q3) and the 25th percentile (Q1) of the data.\n",
        "\n",
        "The IQR is used to detect outliers by identifying data points that are more than 1.5 times the\n",
        "IQR away from Q1 or Q3. These data points are considered outliers because they are significantly different\n",
        "from the rest of the data.\n",
        "\n",
        "Lower fence: Q1 - 1.5 * IQR\n",
        "Upper fence: Q3 + 1.5 * IQR\n",
        "\"\"\""
      ],
      "metadata": {
        "id": "Ds_b2ztwaxOh",
        "colab": {
          "base_uri": "https://localhost:8080/",
          "height": 87
        },
        "outputId": "6a31f8ae-b4ca-4d29-9eff-3f6d3985470b"
      },
      "execution_count": null,
      "outputs": [
        {
          "output_type": "execute_result",
          "data": {
            "text/plain": [
              "'\\nThe interquartile range (IQR) is a measure of the spread or dispersion of a dataset. \\nIt is the difference between the 75th percentile (Q3) and the 25th percentile (Q1) of the data.\\n\\nThe IQR is used to detect outliers by identifying data points that are more than 1.5 times the \\nIQR away from Q1 or Q3. These data points are considered outliers because they are significantly different \\nfrom the rest of the data.\\n\\nLower fence: Q1 - 1.5 * IQR\\nUpper fence: Q3 + 1.5 * IQR\\n'"
            ],
            "application/vnd.google.colaboratory.intrinsic+json": {
              "type": "string"
            }
          },
          "metadata": {},
          "execution_count": 6
        }
      ]
    },
    {
      "cell_type": "code",
      "source": [
        "#8. Discuss the conditions under which the binomial distribution is used.\n",
        "\"\"\"\n",
        "The binomial distribution is a discrete probability distribution that models the number of successes\n",
        "in a fixed number of independent trials, where each trial has a constant probability of success.\n",
        "\"\"\"\n",
        "'''\n",
        "USE CASE\n",
        "The number of trials, is fixed and finite.\n",
        "\n",
        "Each trial is independent of the others, meaning that the outcome of one trial does not affect the outcome of another trial.\n",
        "\n",
        "The probability of success, is constant for each trial.\n",
        "\n",
        "Each trial has a binary outcome, meaning that it can be classified as either a success or a failure.\n",
        "\n",
        "The trials are random, meaning that the outcome of each trial is uncertain and can be modeled using probability theory.\n",
        "'''"
      ],
      "metadata": {
        "id": "qK0G_2sla6kj",
        "colab": {
          "base_uri": "https://localhost:8080/",
          "height": 70
        },
        "outputId": "6aedbcfd-97d1-4ad6-e2fe-49764f84048a"
      },
      "execution_count": null,
      "outputs": [
        {
          "output_type": "execute_result",
          "data": {
            "text/plain": [
              "'\\nUSE CASE\\nThe number of trials, is fixed and finite.\\n\\nEach trial is independent of the others, meaning that the outcome of one trial does not affect the outcome of another trial.\\n\\nThe probability of success, is constant for each trial.\\n\\nEach trial has a binary outcome, meaning that it can be classified as either a success or a failure.\\n\\nThe trials are random, meaning that the outcome of each trial is uncertain and can be modeled using probability theory.\\n'"
            ],
            "application/vnd.google.colaboratory.intrinsic+json": {
              "type": "string"
            }
          },
          "metadata": {},
          "execution_count": 2
        }
      ]
    },
    {
      "cell_type": "code",
      "source": [
        "#9. Explain the properties of the normal distribution and the empirical rule (68-95-99.7 rule).\n",
        "'''\n",
        "The normal distribution, also known as the Gaussian distribution or bell curve, is a continuous probability distribution\n",
        "PROPERTIES:\n",
        "Symmetry: The normal distribution is symmetric around the mean.\n",
        "\n",
        "Bell-shaped: The normal distribution has a bell-shaped curve, with the majority of the data points clustered around the mean and tapering\n",
        "off gradually towards the extremes.\n",
        "\n",
        "Mean, Median, and Mode: The mean, median, and mode of a normal distribution are equal.\n",
        "\n",
        "Standard Deviation: In a normal distribution, about 68% of the data points fall within 1 standard deviation of the mean,\n",
        "about 95% of the data points fall within 2 standard deviations of the mean,\n",
        "and about 99.7% of the data points fall within 3 standard deviations of the mean.\n",
        "\n",
        "Infinite Range: The normal distribution has an infinite range, meaning that it can take on any value from negative infinity to positive infinity.\n",
        "'''"
      ],
      "metadata": {
        "id": "endHfM9jbGMQ"
      },
      "execution_count": null,
      "outputs": []
    },
    {
      "cell_type": "code",
      "source": [
        "#10. Provide a real-life example of a Poisson process and calculate the probability for a specific event."
      ],
      "metadata": {
        "id": "Ken4i7X5bKq9"
      },
      "execution_count": null,
      "outputs": []
    },
    {
      "cell_type": "markdown",
      "source": [
        "Example: Phone Calls at a Call Center\n",
        "\n",
        "A call center receives an average of 2 phone calls per minute. We want to calculate the probability that exactly 1 phone call will be received in the next minute.\n",
        "P(1) = (e^(-2) * (2^1)) / 1! = (0.1353 * 2) / 1 = 0.2707"
      ],
      "metadata": {
        "id": "5TQUxCqJ8tuV"
      }
    },
    {
      "cell_type": "markdown",
      "source": [],
      "metadata": {
        "id": "nYALYTex8tsw"
      }
    },
    {
      "cell_type": "code",
      "source": [
        "#11. Explain what a random variable is and differentiate between discrete and continuous random variables.\n",
        "\"\"\"\n",
        "A random variable is a mathematical concept used to describe an uncertain outcome or value that can be measured or observed in an experiment or trial.\n",
        "\n",
        "Discrete Random Variables:\n",
        "A discrete random variable is a random variable that can only take on a countable number of distinct values. These values are often integers,\n",
        "but they can also be any other type of value that can be counted.\n",
        "\n",
        "Continuous Random Variables:\n",
        "A continuous random variable is a random variable that can take on any value within a certain range or interval. These values can be any\n",
        "real number, and they are often represented by a continuous spectrum of values.\n",
        "\"\"\""
      ],
      "metadata": {
        "id": "xDRjpGLCbaEB",
        "colab": {
          "base_uri": "https://localhost:8080/",
          "height": 105
        },
        "outputId": "80352310-937b-47d0-913a-a1885c8e0766"
      },
      "execution_count": null,
      "outputs": [
        {
          "output_type": "execute_result",
          "data": {
            "text/plain": [
              "'\\nA random variable is a mathematical concept used to describe an uncertain outcome or value that can be measured or observed in an experiment or trial.\\n\\nDiscrete Random Variables:\\nA discrete random variable is a random variable that can only take on a countable number of distinct values. These values are often integers,\\nbut they can also be any other type of value that can be counted.\\n\\nContinuous Random Variables:\\nA continuous random variable is a random variable that can take on any value within a certain range or interval. These values can be any \\nreal number, and they are often represented by a continuous spectrum of values.\\n'"
            ],
            "application/vnd.google.colaboratory.intrinsic+json": {
              "type": "string"
            }
          },
          "metadata": {},
          "execution_count": 2
        }
      ]
    },
    {
      "cell_type": "code",
      "source": [
        "#12. Provide an example dataset, calculate both covariance and correlation, and interpret the results.\n",
        "import numpy as np\n",
        "import pandas as pd\n",
        "\n",
        "data = {\n",
        "    'Math': [85, 90, 78, 92, 88],\n",
        "    'Science': [90, 85, 92, 88, 76]\n",
        "}\n",
        "\n",
        "df = pd.DataFrame(data)\n",
        "\n",
        "print(\"Exam Scores:\")\n",
        "print(df)\n",
        "covariance = np.cov(df['Math'], df['Science'])[0, 1]\n",
        "print(\"\\nCovariance between Math and Science scores:\", covariance)\n",
        "\n",
        "correlation = np.corrcoef(df['Math'], df['Science'])[0, 1]\n",
        "print(\"\\nCorrelation coefficient between Math and Science scores:\", correlation)\n",
        "\n"
      ],
      "metadata": {
        "id": "SXP7MV03bggv",
        "colab": {
          "base_uri": "https://localhost:8080/"
        },
        "outputId": "83d01255-97ea-4569-a060-45cb5648e900"
      },
      "execution_count": 3,
      "outputs": [
        {
          "output_type": "stream",
          "name": "stdout",
          "text": [
            "Exam Scores:\n",
            "   Math  Science\n",
            "0    85       90\n",
            "1    90       85\n",
            "2    78       92\n",
            "3    92       88\n",
            "4    88       76\n",
            "\n",
            "Covariance between Math and Science scores: -16.150000000000002\n",
            "\n",
            "Correlation coefficient between Math and Science scores: -0.4725212684422323\n"
          ]
        }
      ]
    },
    {
      "cell_type": "markdown",
      "source": [],
      "metadata": {
        "id": "K97roVB689-s"
      }
    }
  ]
}