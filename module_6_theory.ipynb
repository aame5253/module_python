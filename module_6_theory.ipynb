{
 "cells": [
  {
   "cell_type": "code",
   "execution_count": 1,
   "id": "7675713d-e03c-482b-90a1-26f8d5ee7211",
   "metadata": {},
   "outputs": [
    {
     "name": "stdout",
     "output_type": "stream",
     "text": [
      "chennai express\n",
      "Train Name: Chennai Express, Train Number: 12345\n"
     ]
    }
   ],
   "source": [
    "\n",
    "#1. What is the difference between a function and a method in Python?\n",
    "'''Functions in Python:\n",
    "Functions are outside a class\n",
    "Functions can be executed just by calling with its name\n",
    "Functions can have zero parameters.\n",
    "Functions can not access or modify class attributes(independent)'''\n",
    "def join(str1, str2):\n",
    "    joined_str = str1 + str2\n",
    "    return joined_str\n",
    "print(join('chennai',' express'))\n",
    "'''Methods in Python:\n",
    "Methods are created inside a class\n",
    "To execute methods, we need to use either an object name or class name and a dot operator.\n",
    "Methods should have a default parameter either self or cls to get the object's or class's address.\n",
    "Methods can access and modify class attributes'''\n",
    "class Train:\n",
    "    def __init__(self, train_name, train_number):\n",
    "        self.train_name = train_name\n",
    "        self.train_number = train_number\n",
    "    def display_train_details(self):\n",
    "        print(f\"Train Name: {self.train_name}, Train Number: {self.train_number}\")\n",
    "# Create an variable of the Train class\n",
    "train = Train('Chennai Express', 12345)\n",
    "# Call the display_train_details method\n",
    "train.display_train_details()"
   ]
  },
  {
   "cell_type": "code",
   "execution_count": 2,
   "id": "cbb3197f-d37f-45f3-b3d8-6e9e53e9f1c0",
   "metadata": {},
   "outputs": [
    {
     "name": "stdout",
     "output_type": "stream",
     "text": [
      "hello, hope u have a great day shreya\n"
     ]
    }
   ],
   "source": [
    "#2. Explain the concept of function arguments and parameters in Python.\n",
    "'''PARAMETERS>> Variables listed inside the parentheses in a function definition.\n",
    " They act as placeholders for values that will be passed to the function when it is called.\n",
    "Example: '''\n",
    "def greet(name):\n",
    "    mess=('hello, hope u have a great day',name)#name is a parameter\n",
    "    '''here message is a local variable'''\n",
    "greet('name')\n",
    "'''ARGUMENTS>> Actual values passed to a function when it is called.\n",
    " They are assigned to the corresponding parameters in the function definition.\n",
    "Example:'''\n",
    "def greetings(name):\n",
    "    print('hello, hope u have a great day',name)\n",
    "    '''if name is not provided it throws an error'''\n",
    "greetings('shreya')#shreya is an argument"
   ]
  },
  {
   "cell_type": "code",
   "execution_count": 3,
   "id": "b3f9f39b-37f4-44b5-887c-269d1ace6a7d",
   "metadata": {},
   "outputs": [
    {
     "name": "stdout",
     "output_type": "stream",
     "text": [
      "18\n",
      "<class 'int'>\n",
      "25\n"
     ]
    }
   ],
   "source": [
    "#3. What are the different ways to define and call a function in Python?\n",
    "'''1. Using def keyword:\n",
    "'''\n",
    "def calculate():#without argument\n",
    "    calc=3*8-6\n",
    "    return (calc)\n",
    "print(calculate())\n",
    "print(type(calculate()))\n",
    "'''Lambda functions: These are anonymous functions, defined using the lambda keyword.\n",
    " They are typically used for short, simple operations.'''\n",
    "square=lambda x:x**2\n",
    "print(square(5))"
   ]
  },
  {
   "cell_type": "code",
   "execution_count": 4,
   "id": "de617e12-89cc-4913-82d9-750ff8d02b60",
   "metadata": {},
   "outputs": [
    {
     "name": "stdout",
     "output_type": "stream",
     "text": [
      "11\n",
      "i am hungry and i will not share my sandwich\n"
     ]
    }
   ],
   "source": [
    "#4. What is the purpose of the `return` statement in a Python function?\n",
    "'''The return statement is used to exit a function and return a value to the caller.\n",
    "The return statement can be used with or without a value.'''\n",
    "def add(a,b ):#positional arguments keep the order of operation a=5 and b=6\n",
    "    return a+b\n",
    "print(add(5,6))\n",
    "print(add(a='i am hungry',b=' and i will not share my sandwich'))#assigning variables"
   ]
  },
  {
   "cell_type": "code",
   "execution_count": 5,
   "id": "039a1d62-1daf-4f40-a1b7-cc066a8bc098",
   "metadata": {},
   "outputs": [
    {
     "name": "stdout",
     "output_type": "stream",
     "text": [
      "i\n",
      "c\n",
      "e\n"
     ]
    }
   ],
   "source": [
    "#5. What are iterators in Python and how do they differ from iterables?\n",
    "'''\n",
    "Iterable(list,string,sets,dicts) is an object, that one can iterate over. It generates an Iterator when passed to iter() method.\n",
    "An iterator is an object, which is used to iterate over an iterable object using the __next__() method.\n",
    "Iterators have the __next__() method, which returns the next item of the object.\n",
    "It returns object one by one\n",
    "'''\n",
    "str=iter('icecream')\n",
    "print(next(str))\n",
    "print(next(str))\n",
    "print(next(str))#same goes for c r e a m.\n",
    "#first converting the iterable string to iterator iter() and then access using next() which are python keywords\n",
    "#thats how loops work "
   ]
  },
  {
   "cell_type": "code",
   "execution_count": 6,
   "id": "95e5aa95-0add-414e-9708-279ff6580199",
   "metadata": {},
   "outputs": [
    {
     "name": "stdout",
     "output_type": "stream",
     "text": [
      "1\n",
      "4\n",
      "9\n",
      "16\n"
     ]
    }
   ],
   "source": [
    "#6. Explain the concept of generators in Python and how they are defined.\n",
    "'''GENERATORS-A generator function in Python is defined like a normal function,\n",
    " but whenever it needs to generate a value, it does so with the yield keyword rather than return.'''\n",
    "#def function_name():\n",
    "    #yield statement \n",
    "def sq_no(n):\n",
    "    for i in range(n):\n",
    "        yield i**2\n",
    "        '''there won't be a loop and the iterable are called one by one'''\n",
    "gen=sq_no(10)\n",
    "#it is an iterator object'sq_no' - created by yield \"generator functoion\"        \n",
    "next(gen)#calling this iterator object\n",
    "print(next(gen))\n",
    "print(next(gen))\n",
    "print(next(gen))\n",
    "print(next(gen))# similarly for others till 9  "
   ]
  },
  {
   "cell_type": "code",
   "execution_count": 7,
   "id": "e604ec78-3632-49bc-bb51-15e07a8d7cce",
   "metadata": {},
   "outputs": [
    {
     "data": {
      "text/plain": [
       "'Memory Efficiency: Generators generate values on the fly, reducing \\nmemory usage compared to storing the entire sequence in memory.\\nLazy Evaluation: Values are computed only when needed, which can lead to performance improvements,\\n especially with large datasets.\\nMaintain State: Generators automatically maintain their state between yield statements,\\n making them suitable for iterative processes.\\nConvenience: Generators simplify code for iterating over large datasets or streams of data \\nwithout needing to manage state explicitly.'"
      ]
     },
     "execution_count": 7,
     "metadata": {},
     "output_type": "execute_result"
    }
   ],
   "source": [
    "#7. What are the advantages of using generators over regular functions?\n",
    "\"\"\"Memory Efficiency: Generators generate values on the fly, reducing \n",
    "memory usage compared to storing the entire sequence in memory.\n",
    "Lazy Evaluation: Values are computed only when needed, which can lead to performance improvements,\n",
    " especially with large datasets.\n",
    "Maintain State: Generators automatically maintain their state between yield statements,\n",
    " making them suitable for iterative processes.\n",
    "Convenience: Generators simplify code for iterating over large datasets or streams of data \n",
    "without needing to manage state explicitly.\"\"\""
   ]
  },
  {
   "cell_type": "code",
   "execution_count": 8,
   "id": "20adb643-ef0a-45d3-9143-d050939bb834",
   "metadata": {},
   "outputs": [
    {
     "name": "stdout",
     "output_type": "stream",
     "text": [
      "9\n",
      "10\n"
     ]
    }
   ],
   "source": [
    "#8. What is a lambda function in Python and when is it typically used?\n",
    "'''A lambda function is a small anonymous function in Python that can take any number of arguments, but can\n",
    "only have one expression. It is typically used when a small function is needed, but the function is\n",
    "only used once or twice. It is often used in combination with higher-order functions such as map(),\n",
    "filter(),reduce()'''\n",
    "l=lambda x: x**2\n",
    "print(l(3))#don't require return / short hand functions\n",
    "add=lambda x,y: x+y\n",
    "print(add(3,7))"
   ]
  },
  {
   "cell_type": "code",
   "execution_count": 10,
   "id": "1d745e2a-eaa0-4400-aead-9fbc1c833e2b",
   "metadata": {},
   "outputs": [
    {
     "name": "stdout",
     "output_type": "stream",
     "text": [
      "[1, 4, 9, 16, 25]\n"
     ]
    }
   ],
   "source": [
    "#9. Explain the purpose and usage of the `map()` function in Python.\n",
    "'''The map() function applies a given function to each item of an iterable (such as a list\n",
    "or tuple) and returns a map object. The map object returned is an iterator, meaning it is\n",
    "a special type of object that can be iterated upon, such as with a for loop. The\n",
    "map() function is often used in combination with the list() function to convert the\n",
    "map object to a list. The map() function is typically used when you need to perform\n",
    "a simple operation on each item in an iterable, such as squaring each number in a list.'''\n",
    "l=[1,2,3,4,5]\n",
    "print(list(map(lambda x:x**2,l)))#square of each element in list"
   ]
  },
  {
   "cell_type": "code",
   "execution_count": 11,
   "id": "e8100035-5db0-4568-9b6e-1be123d116bd",
   "metadata": {},
   "outputs": [
    {
     "name": "stdout",
     "output_type": "stream",
     "text": [
      "[1, 4, 9, 16, 25]\n",
      "[11, 3, 47, 23]\n"
     ]
    }
   ],
   "source": [
    "#10. What is the difference between `map()`, `reduce()`, and `filter()` functions in Python?\n",
    "#MAP FUNCTIONS>>executes a specified function for each item on an iterable \n",
    "#syntax  map(function,iterable)\n",
    "l=[1,2,3,4,5]\n",
    "print(list(map(lambda x:x**2,l)))#square of each element in list\n",
    "#FILTER FUNCTIONS>>returns elements of an iterable for which a function returns True\n",
    "#syntax filter(function,iterable)\n",
    "no=(11,54,66,32,98,3,47,23)\n",
    "print(list(filter(lambda x :x % 2 != 0, no)))\n",
    "#REDUCE FUNCTIONS>>applies a rolling computation to sequential pairs of values in a list\n",
    "#syntax reduce(function,iterable)\n"
   ]
  },
  {
   "cell_type": "code",
   "execution_count": null,
   "id": "3fc21036-178d-416d-8901-747227546619",
   "metadata": {},
   "outputs": [],
   "source": []
  }
 ],
 "metadata": {
  "kernelspec": {
   "display_name": "Python 3 (ipykernel)",
   "language": "python",
   "name": "python3"
  },
  "language_info": {
   "codemirror_mode": {
    "name": "ipython",
    "version": 3
   },
   "file_extension": ".py",
   "mimetype": "text/x-python",
   "name": "python",
   "nbconvert_exporter": "python",
   "pygments_lexer": "ipython3",
   "version": "3.10.8"
  }
 },
 "nbformat": 4,
 "nbformat_minor": 5
}
