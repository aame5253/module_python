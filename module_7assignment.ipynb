{
 "cells": [
  {
   "cell_type": "code",
   "execution_count": 2,
   "id": "c0a1f2d0-ce6d-4dd1-9a1c-2a55243fe3ad",
   "metadata": {},
   "outputs": [
    {
     "data": {
      "text/plain": [
       "'\\nOOPs Concepts in Python\\n>Class in Python\\n>Objects in Python\\n>Polymorphism in Python\\n>Encapsulation in Python\\n>Inheritance in Python\\n>Data Abstraction in Python\\n'"
      ]
     },
     "execution_count": 2,
     "metadata": {},
     "output_type": "execute_result"
    }
   ],
   "source": [
    "#oops assignment\n",
    "#1. What are the five key concepts of Object-Oriented Programming (OOP)?\n",
    "'''\n",
    "OOPs Concepts in Python\n",
    ">Class in Python\n",
    ">Objects in Python\n",
    ">Polymorphism in Python\n",
    ">Encapsulation in Python\n",
    ">Inheritance in Python\n",
    ">Data Abstraction in Python\n",
    "'''"
   ]
  },
  {
   "cell_type": "code",
   "execution_count": 3,
   "id": "d05a2b30-30de-42f1-a19c-d8048f163a5c",
   "metadata": {},
   "outputs": [
    {
     "name": "stdout",
     "output_type": "stream",
     "text": [
      "Make(the prolonged project): PORCHE\n",
      "Model(for MR. James Bond): 007\n",
      "Year(scam): 1989\n",
      "1989 PORCHE 007\n"
     ]
    }
   ],
   "source": [
    "#2. Write a Python class for a `Car` with attributes for `make`, `model`, and `year`. Include a method to display\n",
    "#the car's information.\n",
    "class Car:\n",
    "    def __init__(self, make, model, year):\n",
    "        self.make = make\n",
    "        self.model = model\n",
    "        self.year = year\n",
    "    def display_info(self):\n",
    "        print(f\"Make(the prolonged project): {self.make}\")\n",
    "        print(f\"Model(for MR. James Bond): {self.model}\")\n",
    "        print(f\"Year(scam): {self.year}\")\n",
    "    def __str__(self):\n",
    "        return f\"{self.year} {self.make} {self.model}\"    \n",
    "\n",
    "c1=Car('PORCHE','007',1989)\n",
    "c1.display_info()\n",
    "print(c1)"
   ]
  },
  {
   "cell_type": "code",
   "execution_count": 4,
   "id": "528f42db-6419-4da1-9ad1-d32abb8f5c31",
   "metadata": {},
   "outputs": [
    {
     "name": "stdout",
     "output_type": "stream",
     "text": [
      "Buddy says Woof!\n",
      "0\n",
      "1\n",
      "2\n",
      "2\n",
      "3\n",
      "stud\n"
     ]
    },
    {
     "data": {
      "text/plain": [
       "' are bound to the class itself, rather than an instance of the class. They are used to perform actions\\nthat are related to the class, rather than a specific object. Class methods have access to the class attributes,\\nbut not instance attributes.'"
      ]
     },
     "execution_count": 4,
     "metadata": {},
     "output_type": "execute_result"
    }
   ],
   "source": [
    "#3. Explain the difference between instance methods and class methods. Provide an example of each.\n",
    "'''there are two types of methods: instance methods and class methods. The main difference between them lies in\n",
    " their purpose, behavior, and how they are called.'''\n",
    "#Instance Methods\n",
    "class Dog:\n",
    "    def __init__(self, name, age):\n",
    "        self.name = name\n",
    "        self.age = age\n",
    "\n",
    "    def bark(self):\n",
    "        print(f\"{self.name} says Woof!\")\n",
    "\n",
    "my_dog = Dog('Buddy', 3)\n",
    "my_dog.bark()  # Output: Buddy says Woof!\n",
    "'''They are bound to an instance of a class, meaning they operate on a specific object created from a class. Instance\n",
    "methods have access to the instance's attributes and can modify them.'''\n",
    "#class methods\n",
    "class Student():\n",
    "    total_student = 0\n",
    "\n",
    "    def __init__(self, name):\n",
    "        self.name = name\n",
    "        Student.total_student += 1  # increment class variable\n",
    "        print(Student.total_student)\n",
    "\n",
    "    @classmethod\n",
    "    def get_total_students(cls):\n",
    "        return cls.total_student\n",
    "\n",
    "print(Student.total_student)  # output: 0\n",
    "stud1 = Student('abhi')  # output: 1\n",
    "stud2 = Student('akshay')  # output: 2\n",
    "print(Student.get_total_students())  # output: 2\n",
    "stud = Student('stud')  # output: 3\n",
    "print(stud.name)  # output: stud\n",
    "''' are bound to the class itself, rather than an instance of the class. They are used to perform actions\n",
    "that are related to the class, rather than a specific object. Class methods have access to the class attributes,\n",
    "but not instance attributes.'''"
   ]
  },
  {
   "cell_type": "code",
   "execution_count": 5,
   "id": "3be1701a-9bfd-42c1-aa9e-7d52a25d9474",
   "metadata": {},
   "outputs": [
    {
     "name": "stdout",
     "output_type": "stream",
     "text": [
      "15\n",
      "5\n",
      "50\n",
      "2.0\n"
     ]
    }
   ],
   "source": [
    "#4. How does Python implement method overloading? Give an example.\n",
    "'''Python does not support method overloading in the classical sense. However, you can achieve similar behavior\n",
    "using default argument values or by using the *args and **kwargs syntax.'''\n",
    "#Example using default argument values\n",
    "class Calculator:\n",
    "    def calculate(self, x, y, operation='add'):\n",
    "        if operation == 'add':\n",
    "            return x + y\n",
    "        elif operation == 'subtract':\n",
    "            return x - y\n",
    "        elif operation == 'multiply':\n",
    "            return x * y\n",
    "        elif operation == 'divide':\n",
    "            if y != 0:\n",
    "                return x / y\n",
    "            else:\n",
    "                return \"Error: Division by zero is not allowed\"\n",
    "# Usage\n",
    "calculator = Calculator()\n",
    "print(calculator.calculate(10, 5))  # Output: 15 (default operation is 'add')\n",
    "print(calculator.calculate(10, 5, 'subtract'))  # Output: 5\n",
    "print(calculator.calculate(10, 5, 'multiply'))  # Output: 50\n",
    "print(calculator.calculate(10, 5, 'divide'))  # Output: 2.0           "
   ]
  },
  {
   "cell_type": "code",
   "execution_count": 6,
   "id": "0d90523e-1e69-4db3-9603-4e1047f179ab",
   "metadata": {},
   "outputs": [],
   "source": [
    "#5. What are the three types of access modifiers in Python? How are they denoted?\n",
    "\"\"\"\n",
    "Public: Public access modifier is the default access modifier in Python. It means that the variable or method\n",
    "can be accessed from anywhere, both within and outside the class.\n",
    "Protected: Protected access modifier is denoted by a single underscore (_) prefix. It means that the variable\n",
    "or method can be accessed within the class and its subclasses, but not from outside the class.\n",
    "Private: Private access modifier is denoted by a double underscore (__) prefix. It means that the variable\n",
    "or method can only be accessed within the class itself, not from its subclasses or from outside the class.\n",
    "\"\"\"\n",
    "class MyClass:\n",
    "    def __init__(self):\n",
    "        self.public_variable = 10  # Public variable\n",
    "        self._protected_variable = 20  # Protected variable\n",
    "        self.__private_variable = 30  # Private variable\n",
    "\n",
    "    def public_method(self):\n",
    "        pass  # Public method\n",
    "\n",
    "    def _protected_method(self):\n",
    "        pass  # Protected method\n",
    "\n",
    "    def __private_method(self):\n",
    "        pass  # Private method"
   ]
  },
  {
   "cell_type": "code",
   "execution_count": 7,
   "id": "8ed5d8e0-596a-4f18-adeb-2b29fc51360f",
   "metadata": {},
   "outputs": [
    {
     "name": "stdout",
     "output_type": "stream",
     "text": [
      "The animal eats\n",
      "None\n"
     ]
    },
    {
     "data": {
      "text/plain": [
       "'5.Multiple Inheritance with diamond problem: In multiple inheritance with diamond problem, a child class\\ninherits from two parent classes, which in turn inherit from a common parent class.'"
      ]
     },
     "execution_count": 7,
     "metadata": {},
     "output_type": "execute_result"
    }
   ],
   "source": [
    "#6. Describe the five types of inheritance in Python. Provide a simple example of multiple inheritance.\n",
    "'''1.Single Inheritance: In single inheritance, a child class inherits from a single parent class.\n",
    "Example:'''\n",
    "'''2.Multiple Inheritance:In multiple inheritance, a child class can inherit from more than one parent class.\n",
    "Example:'''\n",
    "class Animal:\n",
    "    def eat(self):\n",
    "        print(\"The animal eats\")\n",
    "class Mammal:\n",
    "    def walk(self):\n",
    "        print(\"The mammal walks\")\n",
    "class Dog(Animal,Mammal):\n",
    "    def sound(self):\n",
    "        print(\"The dog barks\")\n",
    "dog=Dog()\n",
    "print(dog.eat())\n",
    "'''3.Multilevel Inheritance:In multilevel inheritance, a child class inherits from a parent class, which in turn \n",
    "inherits from another parent class.'''\n",
    "'''4.Hierarchical Inheritance:In hierarchical inheritance, a parent class can have multiple child classes.'''\n",
    "'''5.Multiple Inheritance with diamond problem: In multiple inheritance with diamond problem, a child class\n",
    "inherits from two parent classes, which in turn inherit from a common parent class.'''"
   ]
  },
  {
   "cell_type": "code",
   "execution_count": 8,
   "id": "6ad186a2-032a-4886-88af-c97e7b625de3",
   "metadata": {},
   "outputs": [
    {
     "name": "stdout",
     "output_type": "stream",
     "text": [
      "[<class '__main__.D'>, <class '__main__.B'>, <class '__main__.C'>, <class '__main__.A'>, <class 'object'>]\n"
     ]
    }
   ],
   "source": [
    "#7. What is the Method Resolution Order (MRO) in Python? How can you retrieve it programmatically?\n",
    "\"\"\"\n",
    "The Method Resolution Order (MRO) in Python is the order in which Python searches for a method or attribute\n",
    "in a class and its parent classes when a class inherits from multiple classes. It's a mechanism that Python \n",
    "uses to resolve method calls when there are multiple inheritance paths.\n",
    "\"\"\"\n",
    "class A:\n",
    "    pass\n",
    "class B(A):\n",
    "    pass\n",
    "class C(A):\n",
    "    pass\n",
    "class D(B,C):\n",
    "    pass\n",
    "print(D.mro())  # prints: [<class '__main__.D'>, <class '__\n"
   ]
  },
  {
   "cell_type": "code",
   "execution_count": 9,
   "id": "517f5dc7-e0bf-4f73-9864-348de52c5a1b",
   "metadata": {},
   "outputs": [
    {
     "name": "stdout",
     "output_type": "stream",
     "text": [
      "20\n"
     ]
    }
   ],
   "source": [
    "#8. Create an abstract base class `Shape` with an abstract method `area()`. Then create two subclasses\n",
    "#`Circle` and `Rectangle` that implement the `area()` method.\n",
    "from abc import ABC, abstractmethod\n",
    "\n",
    "class Shape(ABC):\n",
    "    @abstractmethod\n",
    "    def area(self):\n",
    "        pass\n",
    "\n",
    "class Circle(Shape):\n",
    "    def __init__(self, radius):\n",
    "        self.radius = radius\n",
    "\n",
    "    def area(self):\n",
    "        return 3.14 * self.radius ** 2\n",
    "\n",
    "class Rectangle(Shape):\n",
    "    def __init__(self, width, height):\n",
    "        self.width = width\n",
    "        self.height = height\n",
    "\n",
    "    def area(self):\n",
    "        return self.width * self.height\n",
    "\n",
    "o1 = Rectangle(4, 5)\n",
    "print(o1.area())  # This should print 20\n",
    "\n",
    "# o = Shape()  # This will raise an error because Shape is an abstract class and cannot be instantiated.\n",
    "\n"
   ]
  },
  {
   "cell_type": "code",
   "execution_count": 10,
   "id": "e0605600-dd59-4e78-a521-cd71432ae1a3",
   "metadata": {},
   "outputs": [
    {
     "name": "stdout",
     "output_type": "stream",
     "text": [
      "The area of the Circle is 78.5\n",
      "The area of the Rectangle is 20\n"
     ]
    }
   ],
   "source": [
    "#9. Demonstrate polymorphism by creating a function that can work with different shape objects to calculate\n",
    "#and print their areas.\n",
    "'''Polymorphism is the ability of an object to take on multiple forms'''\n",
    "class Shape:\n",
    "    def area(self):\n",
    "        raise NotImplementedError(\"Subclasses must implement the area method\")\n",
    "\n",
    "class Circle(Shape):\n",
    "    def __init__(self, radius):\n",
    "        self.radius = radius\n",
    "\n",
    "    def area(self):\n",
    "        return 3.14 * self.radius ** 2\n",
    "\n",
    "class Rectangle(Shape):\n",
    "    def __init__(self, width, height):\n",
    "        self.width = width\n",
    "        self.height = height\n",
    "\n",
    "    def area(self):\n",
    "        return self.width * self.height\n",
    "\n",
    "class Triangle(Shape):\n",
    "    def __init__(self, base, height):\n",
    "        self.base = base\n",
    "        self.height = height\n",
    "\n",
    "    def area(self):\n",
    "        return 0.5 * self.base * self.height\n",
    "\n",
    "def calculate_and_print_area(shape):\n",
    "    print(f\"The area of the {shape.__class__.__name__} is {shape.area()}\")\n",
    "\n",
    "# Create shape objects\n",
    "circle = Circle(5)\n",
    "rectangle = Rectangle(4, 5)\n",
    "\n",
    "# Pass shape objects to the function\n",
    "calculate_and_print_area(circle)\n",
    "calculate_and_print_area(rectangle)"
   ]
  },
  {
   "cell_type": "code",
   "execution_count": 11,
   "id": "6c3d7096-2776-406b-929a-d76988ee37bb",
   "metadata": {},
   "outputs": [
    {
     "name": "stdout",
     "output_type": "stream",
     "text": [
      "Initial balance: 1000.0\n",
      "Balance after deposit: 1500.0\n",
      "Balance after withdrawal: 1300.0\n",
      "Account number: 1234567890\n"
     ]
    }
   ],
   "source": [
    "#10. Implement encapsulation in a `BankAccount` class with private attributes for `balance` and\n",
    "#`account_number`. Include methods for deposit, withdrawal, and balance inquiry.\n",
    "class BankAccount:\n",
    "    def __init__(self, account_number, initial_balance):\n",
    "        \"\"\"\n",
    "        Initializes a BankAccount object with a private account number and balance.\n",
    "        Args:\n",
    "            account_number (str): The unique account number.\n",
    "            initial_balance (float): The initial balance of the account.\n",
    "        \"\"\"\n",
    "        self.__account_number = account_number\n",
    "        self.__balance = initial_balance\n",
    "\n",
    "    def deposit(self, amount):\n",
    "        \"\"\"\n",
    "        Deposits a specified amount into the account.\n",
    "        Args:\n",
    "            amount (float): The amount to deposit.\n",
    "        Raises:\n",
    "            ValueError: If the deposit amount is negative.\n",
    "        \"\"\"\n",
    "        if amount < 0:\n",
    "            raise ValueError(\"Deposit amount cannot be negative\")\n",
    "        self.__balance += amount\n",
    "\n",
    "    def withdraw(self, amount):\n",
    "        \"\"\"\n",
    "        Withdraws a specified amount from the account.\n",
    "        Args:\n",
    "            amount (float): The amount to withdraw.\n",
    "        Raises:\n",
    "            ValueError: If the withdrawal amount is negative or exceeds the balance.\n",
    "        \"\"\"\n",
    "        if amount < 0:\n",
    "            raise ValueError(\"Withdrawal amount cannot be negative\")\n",
    "        if amount > self.__balance:\n",
    "            raise ValueError(\"Insufficient balance\")\n",
    "        self.__balance -= amount\n",
    "\n",
    "    def get_balance(self):\n",
    "        \"\"\"\n",
    "        Returns the current balance of the account.\n",
    "        Returns:\n",
    "            float: The current balance.\n",
    "        \"\"\"\n",
    "        return self.__balance\n",
    "\n",
    "    def get_account_number(self):\n",
    "        \"\"\"\n",
    "        Returns the account number.\n",
    "        Returns:\n",
    "            str: The account number.\n",
    "        \"\"\"\n",
    "        return self.__account_number\n",
    "\n",
    "account = BankAccount(\"1234567890\", 1000.0)\n",
    "print(f\"Initial balance: {account.get_balance()}\")\n",
    "account.deposit(500.0)\n",
    "print(f\"Balance after deposit: {account.get_balance()}\")\n",
    "account.withdraw(200.0)\n",
    "print(f\"Balance after withdrawal: {account.get_balance()}\")\n",
    "print(f\"Account number: {account.get_account_number()}\")\n",
    "\n"
   ]
  },
  {
   "cell_type": "code",
   "execution_count": 12,
   "id": "fa80d2fc",
   "metadata": {},
   "outputs": [
    {
     "name": "stdout",
     "output_type": "stream",
     "text": [
      "4 6\n",
      "Vector(1, 2)\n"
     ]
    }
   ],
   "source": [
    "#11. Write a class that overrides the `__str__` and `__add__` magic methods. What will these methods allow\n",
    "#you to do?\n",
    "class Vector:\n",
    "    def __init__(self, x, y):\n",
    "        self.x = x\n",
    "        self.y = y\n",
    "    def __str__(self):\n",
    "            return f\"Vector({self.x}, {self.y})\"\n",
    "    def __add__(self, other):\n",
    "            return Vector(self.x + other.x, self.y + other.y)\n",
    "        \n",
    "a=Vector(1,2)\n",
    "b=Vector(3,4)\n",
    "result = a + b\n",
    "print(result.x, result.y)  # Output: 4 6\n",
    "print(a)\n",
    "# The `__str__` method will allow you to print the vector in a human-readable format\n",
    "# The `__add__` method will allow you to add two vectors together using the `+"
   ]
  },
  {
   "cell_type": "code",
   "execution_count": 13,
   "id": "e98c8c45-26d8-4da2-bfcb-f4ab49de3f53",
   "metadata": {},
   "outputs": [
    {
     "name": "stdout",
     "output_type": "stream",
     "text": [
      "1244\n",
      "Function executed in 0.000997 seconds\n",
      "2408\n",
      "Function executed in 0.000000 seconds\n",
      "13\n",
      "Function executed in 0.000000 seconds\n",
      "55004906\n",
      "Function executed in 0.000000 seconds\n"
     ]
    }
   ],
   "source": [
    "#12. Create a decorator that measures and prints the execution time of a function.\n",
    "import time\n",
    "\n",
    "def timer_decorator(func):\n",
    "    def timer(*args, **kwargs):\n",
    "        start_time = time.time()\n",
    "        func(*args, **kwargs)\n",
    "        end_time = time.time()\n",
    "        print(f\"Function executed in {end_time - start_time:.6f} seconds\")\n",
    "    return timer\n",
    "\n",
    "@timer_decorator\n",
    "def func_test1():\n",
    "    print(356+888)\n",
    "\n",
    "@timer_decorator\n",
    "def func_test2():\n",
    "    print(56*43)\n",
    "\n",
    "@timer_decorator\n",
    "def func_test3():\n",
    "    print(56-43)\n",
    "\n",
    "@timer_decorator\n",
    "def func_test4():\n",
    "    print(11000_980*5+6)\n",
    "\n",
    "func_test1()\n",
    "func_test2()\n",
    "func_test3()\n",
    "func_test4()\n",
    "\n"
   ]
  },
  {
   "cell_type": "code",
   "execution_count": 14,
   "id": "d4639ef1-5077-4bce-8ac1-12c76fadf3dc",
   "metadata": {},
   "outputs": [
    {
     "name": "stdout",
     "output_type": "stream",
     "text": [
      "This is method of Parent\n",
      "This is method of Child3\n"
     ]
    }
   ],
   "source": [
    "#13. Explain the concept of the Diamond Problem in multiple inheritance. How does Python resolve it?\n",
    "''' The Diamond Problem is a problem that arises in multiple inheritance when two parent classes have a common base\n",
    "class. This can lead to ambiguity when trying to access a method or attribute that is present in\n",
    "both parent classes.\n",
    "Python resolves the Diamond Problem by using Method Resolution Order (MRO). MRO is a way\n",
    "of ordering the classes in the inheritance graph to determine the order in which methods are looked up.\n",
    "In Python, the MRO is determined by the C3 linearization algorithm.'''\n",
    "class Parent:\n",
    "    def parent_method(self):\n",
    "        print(\"This is method of Parent\")\n",
    "class Child1(Parent):\n",
    "    def child_method(self):\n",
    "        print(\"This is method of Child1\")\n",
    "class Child2(Parent):\n",
    "    def child_method(self):\n",
    "        print(\"This is method of Child2\")\n",
    "class Child3(Parent):\n",
    "    def child_method(self):\n",
    "        print(\"This is method of Child3\")\n",
    "p1=Child3()\n",
    "p1.parent_method()  # Output: This is method of Parent\n",
    "p1.child_method()\n"
   ]
  },
  {
   "cell_type": "code",
   "execution_count": 15,
   "id": "8b04a305-f754-47ec-a823-bf2f170b5aa2",
   "metadata": {},
   "outputs": [
    {
     "name": "stdout",
     "output_type": "stream",
     "text": [
      "the number of instances are:\n",
      "3\n"
     ]
    }
   ],
   "source": [
    "#14. Write a class method that keeps track of the number of instances created from a class.\n",
    "class MyClass:\n",
    "    num_instances = 0\n",
    "\n",
    "    def __init__(self):\n",
    "        MyClass.num_instances += 1\n",
    "\n",
    "    @classmethod\n",
    "    def get_num_instances(cls):\n",
    "        return cls.num_instances\n",
    "        \n",
    "# Create some instances\n",
    "obj1 = MyClass()\n",
    "obj2 = MyClass()\n",
    "obj3 = MyClass()\n",
    "\n",
    "# Print the number of instances\n",
    "print('the number of instances are:')\n",
    "print(MyClass.get_num_instances())\n"
   ]
  },
  {
   "cell_type": "code",
   "execution_count": 16,
   "id": "e3bcf6cb-f05c-40b7-802a-9e37a82db423",
   "metadata": {},
   "outputs": [
    {
     "name": "stdout",
     "output_type": "stream",
     "text": [
      "True\n",
      "False\n"
     ]
    }
   ],
   "source": [
    "#15. Implement a static method in a class that checks if a given year is a leap year.\n",
    "class Year:\n",
    "    @staticmethod\n",
    "    def is_leap_year(year):\n",
    "        if year % 4 == 0 and (year % 100 != 0 or year  % 400 == 0):\n",
    "            return True\n",
    "        else:\n",
    "            return False\n",
    "\n",
    "print(Year.is_leap_year(2020))  # True\n",
    "print(Year.is_leap_year(2019))  # False        "
   ]
  },
  {
   "cell_type": "code",
   "execution_count": null,
   "id": "a1ff9a73-2e15-468f-bbc6-fbd2a7f2e950",
   "metadata": {},
   "outputs": [],
   "source": []
  }
 ],
 "metadata": {
  "kernelspec": {
   "display_name": "Python 3 (ipykernel)",
   "language": "python",
   "name": "python3"
  },
  "language_info": {
   "codemirror_mode": {
    "name": "ipython",
    "version": 3
   },
   "file_extension": ".py",
   "mimetype": "text/x-python",
   "name": "python",
   "nbconvert_exporter": "python",
   "pygments_lexer": "ipython3",
   "version": "3.12.4"
  }
 },
 "nbformat": 4,
 "nbformat_minor": 5
}
