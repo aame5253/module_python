{
  "nbformat": 4,
  "nbformat_minor": 0,
  "metadata": {
    "colab": {
      "provenance": []
    },
    "kernelspec": {
      "name": "python3",
      "display_name": "Python 3"
    },
    "language_info": {
      "name": "python"
    }
  },
  "cells": [
    {
      "cell_type": "code",
      "source": [
        "#1. Explain the properties of the F-distribution.\n",
        "\"\"\"\n",
        "-In statistical hypothesis testing, the Fisher-Snedecor distribution, sometimes known as the F-distribution,\n",
        "is used, particularly when comparing variances or testing means across populations.\n",
        "-It is right-skewed, meaning it has a longer tail on the right. As the degrees of freedom increase, the distribution becomes more symmetric.\n",
        "-Degrees of Freedom: It has two parameters: (d_1) (numerator degrees of freedom) and (d_2) (denominator degrees of freedom), which affect its shape.\n",
        "- The values of the F-distribution are always non-negative, ranging from 0 to infinity.\n",
        "-Commonly used in ANOVA and regression analysis to compare variances between groups.\n",
        "-The F-distribution cannot take negative values, as it is based on variances.\n",
        "\"\"\""
      ],
      "metadata": {
        "id": "a10Dd-xtmgXv",
        "colab": {
          "base_uri": "https://localhost:8080/",
          "height": 127
        },
        "outputId": "0500ad08-cbb5-4f68-a768-5c333aafb73d"
      },
      "execution_count": 9,
      "outputs": [
        {
          "output_type": "execute_result",
          "data": {
            "text/plain": [
              "'\\n-In statistical hypothesis testing, the Fisher-Snedecor distribution, sometimes known as the F-distribution,\\nis used, particularly when comparing variances or testing means across populations.\\n-It is right-skewed, meaning it has a longer tail on the right. As the degrees of freedom increase, the distribution becomes more symmetric.\\n-Degrees of Freedom: It has two parameters: (d_1) (numerator degrees of freedom) and (d_2) (denominator degrees of freedom), which affect its shape.\\n- The values of the F-distribution are always non-negative, ranging from 0 to infinity.\\n-Commonly used in ANOVA and regression analysis to compare variances between groups.\\n-The F-distribution cannot take negative values, as it is based on variances.\\n'"
            ],
            "application/vnd.google.colaboratory.intrinsic+json": {
              "type": "string"
            }
          },
          "metadata": {},
          "execution_count": 9
        }
      ]
    },
    {
      "cell_type": "code",
      "execution_count": 10,
      "metadata": {
        "id": "Wl6rfbUinO2Z",
        "colab": {
          "base_uri": "https://localhost:8080/",
          "height": 145
        },
        "outputId": "ee6562aa-836e-46ed-ccab-936a35117792"
      },
      "outputs": [
        {
          "output_type": "execute_result",
          "data": {
            "text/plain": [
              "'\\nAnalysis of Variance (ANOVA):\\n\\nPurpose: ANOVA is used to compare the means of three or more groups to determine if at least one group mean is significantly different from the others.\\nAppropriateness: ANOVA tests the ratio of the variance between the groups to the variance within the groups. The F-distribution is used because it \\nmodels the distribution of this ratio under the null hypothesis.\\n\\nRegression Analysis:\\n\\nPurpose: In multiple regression, the F-test is used to determine if the overall regression model is a good fit for the data.\\nAppropriateness: The F-distribution is used to compare the variance explained by the regression model to the unexplained variance (residuals). \\n\\nComparing Two Variances:\\n\\nPurpose: The F-test can be used to compare the variances of two populations to see if they are significantly different.\\nAppropriateness: The test statistic is the ratio of the two sample variances, which follows an F-distribution under the null hypothesis \\nthat the population variances are equal.\\n'"
            ],
            "application/vnd.google.colaboratory.intrinsic+json": {
              "type": "string"
            }
          },
          "metadata": {},
          "execution_count": 10
        }
      ],
      "source": [
        "#2. In which types of statistical tests is the F-distribution used, and why is it appropriate for these tests?\n",
        "\"\"\"\n",
        "Analysis of Variance (ANOVA):\n",
        "\n",
        "Purpose: ANOVA is used to compare the means of three or more groups to determine if at least one group mean is significantly different from the others.\n",
        "Appropriateness: ANOVA tests the ratio of the variance between the groups to the variance within the groups. The F-distribution is used because it\n",
        "models the distribution of this ratio under the null hypothesis.\n",
        "\n",
        "Regression Analysis:\n",
        "\n",
        "Purpose: In multiple regression, the F-test is used to determine if the overall regression model is a good fit for the data.\n",
        "Appropriateness: The F-distribution is used to compare the variance explained by the regression model to the unexplained variance (residuals).\n",
        "\n",
        "Comparing Two Variances:\n",
        "\n",
        "Purpose: The F-test can be used to compare the variances of two populations to see if they are significantly different.\n",
        "Appropriateness: The test statistic is the ratio of the two sample variances, which follows an F-distribution under the null hypothesis\n",
        "that the population variances are equal.\n",
        "\"\"\"\n"
      ]
    },
    {
      "cell_type": "code",
      "execution_count": 11,
      "metadata": {
        "id": "RfWaTquSmeye",
        "colab": {
          "base_uri": "https://localhost:8080/",
          "height": 72
        },
        "outputId": "95007525-16f3-4629-fc8b-bec9c4d1c9aa"
      },
      "outputs": [
        {
          "output_type": "execute_result",
          "data": {
            "text/plain": [
              "'\\nIndependence:The samples drawn from the two populations must be independent of each other.\\nNormality:The populations from which the samples are drawn should be normally distributed.\\nRandom Sampling:The samples must be randomly selected from their respective populations.\\nContinuous Data:The data should be continuous and measured on an interval or ratio scale. The F-test is not\\nappropriate for categorical data.\\n'"
            ],
            "application/vnd.google.colaboratory.intrinsic+json": {
              "type": "string"
            }
          },
          "metadata": {},
          "execution_count": 11
        }
      ],
      "source": [
        "#3. What are the key assumptions required for conducting an F-test to compare the variances of two\n",
        "#populations?\n",
        "\"\"\"\n",
        "Independence:The samples drawn from the two populations must be independent of each other.\n",
        "Normality:The populations from which the samples are drawn should be normally distributed.\n",
        "Random Sampling:The samples must be randomly selected from their respective populations.\n",
        "Continuous Data:The data should be continuous and measured on an interval or ratio scale. The F-test is not\n",
        "appropriate for categorical data.\n",
        "\"\"\""
      ]
    },
    {
      "cell_type": "code",
      "source": [
        "#4. What is the purpose of ANOVA, and how does it differ from a t-test?\n",
        "\"\"\"\n",
        "ANOVA (Analysis of Variance) is a statistical method used to compare the means of three or more groups\n",
        "to determine if at least one group mean is significantly different from the others.\n",
        "\n",
        "Differences Between ANOVA and t-test:\n",
        "1-Number of Groups Compared:\n",
        "ANOVA: Used to compare means across three or more groups.\n",
        "t-test: Used to compare the means between two groups.\n",
        "\n",
        "2-Hypothesis Testing:\n",
        "\n",
        "ANOVA: Tests the null hypothesis that all group means are equal against the alternative hypothesis that at least one group mean is different.\n",
        "t-test: Tests the null hypothesis that the means of two groups are equal (H0: μ1 = μ2) against the alternative that they are not equal.\n",
        "\n"
      ],
      "metadata": {
        "id": "ocEze4uanFc6",
        "colab": {
          "base_uri": "https://localhost:8080/",
          "height": 110
        },
        "outputId": "42591288-fb80-44a7-941d-ccf89e860837"
      },
      "execution_count": 12,
      "outputs": [
        {
          "output_type": "error",
          "ename": "SyntaxError",
          "evalue": "incomplete input (<ipython-input-12-0918a9543066>, line 2)",
          "traceback": [
            "\u001b[0;36m  File \u001b[0;32m\"<ipython-input-12-0918a9543066>\"\u001b[0;36m, line \u001b[0;32m2\u001b[0m\n\u001b[0;31m    \"\"\"\u001b[0m\n\u001b[0m    ^\u001b[0m\n\u001b[0;31mSyntaxError\u001b[0m\u001b[0;31m:\u001b[0m incomplete input\n"
          ]
        }
      ]
    },
    {
      "cell_type": "code",
      "source": [
        "#5. Explain when and why you would use a one-way ANOVA instead of multiple t-tests when comparing more\n",
        "#than two groups.\n",
        "\"\"\"\n",
        "A one-way ANOVA (Analysis of Variance) is used when you want to compare the means of three or more\n",
        "independent groups to determine if there are any statistically significant differences among them.\n",
        "When to Use One-Way ANOVA:\n",
        "-Comparing Three or More Groups\n",
        "-Independent Samples\n",
        "-Normality of data and Homogeneity of variance\n",
        "Why Use One-Way ANOVA Instead of Multiple t-Tests:\n",
        "-Control for Type I Error\n",
        "-Efficiency\n",
        "-Overall Comparison\n",
        "\"\"\""
      ],
      "metadata": {
        "id": "HgS7zgqdnFbc"
      },
      "execution_count": null,
      "outputs": []
    },
    {
      "cell_type": "code",
      "source": [
        "#6. Explain how variance is partitioned in ANOVA into between-group variance and within-group variance.\n",
        "#How does this partitioning contribute to the calculation of the F-statistic?\n",
        "\"\"\"\n",
        "Between-group variance measures the variability among the means of different groups. It reflects how much the\n",
        "group means deviate from the overall mean of all observations.\n",
        "\n",
        "Within-group variance measures the variability of observations within each group. It reflects how much individual\n",
        "observations deviate from their respective group means.\n",
        "\n",
        "The F-statistic in ANOVA is calculated by comparing the between-group variance to the within-group variance.\n",
        "The formula for the F-statistic is:\n",
        "F = MSB/MSE\n",
        "\"\"\"\n"
      ],
      "metadata": {
        "id": "o2-ZCTUVnFX2"
      },
      "execution_count": null,
      "outputs": []
    },
    {
      "cell_type": "code",
      "source": [
        "#7. Compare the classical (frequentist) approach to ANOVA with the Bayesian approach. What are the key\n",
        "#differences in terms of how they handle uncertainty, parameter estimation, and hypothesis testing?\n",
        "\"\"\"\n",
        "Hypothesis testing:\n",
        "Frequentists:Hypothesis testing\tSet null and alternative hypotheses and use statistical tests to assess evidence against the null.\n",
        "Bayesian:Consider prior beliefs when forming hypotheses.\n",
        "\n",
        "Probability interpretation:\n",
        "Frequentists:Frame probability in terms of objective, long-term frequencies.\n",
        "Bayesian:Interpret probabilities subjectively and update them as new data is collected.\n",
        "\n",
        "Sampling:\n",
        "Frequentists:Emphasize random sampling and often require fixed sample sizes.\n",
        "Bayesian:Can adapt well to varying sample sizes since Bayesians update their beliefs as more data comes in.\n",
        "\"\"\"\n"
      ],
      "metadata": {
        "id": "55G0KLHInFWg",
        "colab": {
          "base_uri": "https://localhost:8080/",
          "height": 109
        },
        "outputId": "f8fe4ab3-4b52-4602-a5b0-2183aab73419"
      },
      "execution_count": 13,
      "outputs": [
        {
          "output_type": "execute_result",
          "data": {
            "text/plain": [
              "'\\nHypothesis testing:\\nFrequentists:Hypothesis testing\\tSet null and alternative hypotheses and use statistical tests to assess evidence against the null.\\nBayesian:Consider prior beliefs when forming hypotheses.\\n\\nProbability interpretation:\\nFrequentists:Frame probability in terms of objective, long-term frequencies.\\nBayesian:Interpret probabilities subjectively and update them as new data is collected.\\n\\nSampling:\\nFrequentists:Emphasize random sampling and often require fixed sample sizes.\\nBayesian:Can adapt well to varying sample sizes since Bayesians update their beliefs as more data comes in.\\n'"
            ],
            "application/vnd.google.colaboratory.intrinsic+json": {
              "type": "string"
            }
          },
          "metadata": {},
          "execution_count": 13
        }
      ]
    },
    {
      "cell_type": "code",
      "source": [
        "\"\"\"8. Question2 You have two sets of data representing the incomes of two different professions:\n",
        "- Profession A2 [48, 52, 55, 60, 62]\n",
        "- Profession B2 [45, 50, 55, 52, 47] Perform an F-test to determine if the variances of the two professions.\n",
        "incomes are equal. What are your conclusions based on the F-test?\n",
        "\n",
        "Task2: Use Python to calculate the F-statistic and p-value for the given data.\n",
        "\n",
        "Objective2 :Gain experience in performing F-tests and interpreting the results in terms of variance comparison\"\"\"\n",
        "import numpy as np\n",
        "from scipy import stats\n",
        "\n",
        "# Data for the two professions\n",
        "profession_A = np.array([48, 52, 55, 60, 62])\n",
        "profession_B = np.array([45, 50, 55, 52, 47])\n",
        "\n",
        "# Calculate the variances\n",
        "var_A = np.var(profession_A, ddof=1)\n",
        "var_B = np.var(profession_B, ddof=1)\n",
        "\n",
        "# Calculate the F-statistic\n",
        "F_statistic = var_A / var_B\n",
        "\n",
        "# Calculate the degrees of freedom\n",
        "df_A = len(profession_A) - 1  # degrees of freedom for profession A\n",
        "df_B = len(profession_B) - 1  # degrees of freedom for profession B\n",
        "\n",
        "# Calculate the p-value\n",
        "p_value = stats.f.sf(F_statistic, df_A, df_B)\n",
        "\n",
        "# Output the results\n",
        "print(f\"F-statistic: {F_statistic}\")\n",
        "print(f\"P-value: {p_value}\")\n",
        "\n",
        "# Conclusion based on p-value\n",
        "alpha = 0.05  # significance level\n",
        "if p_value < alpha:\n",
        "    print(\"Reject the null hypothesis: The variances are significantly different.\")\n",
        "else:\n",
        "    print(\"Fail to reject the null hypothesis: The variances are not significantly different.\")"
      ],
      "metadata": {
        "id": "fgn_-lRynFG_",
        "colab": {
          "base_uri": "https://localhost:8080/"
        },
        "outputId": "fc31d0bb-c63a-496c-bb16-c3f350458954"
      },
      "execution_count": 14,
      "outputs": [
        {
          "output_type": "stream",
          "name": "stdout",
          "text": [
            "F-statistic: 2.089171974522293\n",
            "P-value: 0.24652429950266966\n",
            "Fail to reject the null hypothesis: The variances are not significantly different.\n"
          ]
        }
      ]
    },
    {
      "cell_type": "code",
      "source": [
        "\"\"\"9. Question2 Conduct a one-way ANOVA to test whether there are any statistically significant differences in\n",
        "average heights between three different regions with the following data1\n",
        "-Region A: [160, 162, 165, 158, 164]\n",
        "- Region B: [172, 175, 170, 168, 174]\n",
        "- Region C: [180 182, 179, 185, 183]\n",
        "- Task2 Write Python code to perform the one-way ANOVA and interpret the results.\n",
        "- Objective2 Learn how to perform one-way ANOVA using Python and interpret F-statistic and p-value.\"\"\"\n",
        "\n",
        "\n",
        "#step-1 define data for different regions :\n",
        "Region_A= [160, 162, 165, 158, 164]\n",
        "Region_B= [172, 175, 170, 168, 174]\n",
        "Region_C= [180, 182, 179, 185, 183]\n",
        "\n",
        "import numpy as np\n",
        "from scipy import stats\n",
        "\n",
        "#step-2 perforinf the f_statistics and getting the P_value:\n",
        "F_statistic,p_value=stats.f_oneway(Region_A,Region_B,Region_C)\n",
        "\n",
        "#step-3 Output the results\n",
        "print(f\"F-statistic: {F_statistic}\")\n",
        "print(f\"P-value: {p_value}\")\n",
        "\n",
        "#step-4 getting and making conclusions:\n",
        "#using p_value\n",
        "alpha = 0.05  #significance\n",
        "if p_value < alpha:\n",
        "    print(\"There are statistically significant differences in average heights between the regions.\")\n",
        "else:\n",
        "    print(\"There are no statistically significant differences in average heights between the regions.\")"
      ],
      "metadata": {
        "id": "oPYMfLXXnZVy",
        "colab": {
          "base_uri": "https://localhost:8080/"
        },
        "outputId": "a64d6a91-f5f8-4bdb-e0c4-4fd20e42e7a8"
      },
      "execution_count": 18,
      "outputs": [
        {
          "output_type": "stream",
          "name": "stdout",
          "text": [
            "F-statistic: 67.87330316742101\n",
            "P-value: 2.870664187937026e-07\n",
            "There are statistically significant differences in average heights between the regions.\n"
          ]
        }
      ]
    },
    {
      "cell_type": "code",
      "source": [],
      "metadata": {
        "id": "7GDZ2aFkt_3J"
      },
      "execution_count": null,
      "outputs": []
    }
  ]
}