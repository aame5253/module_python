{
 "cells": [
  {
   "cell_type": "code",
   "execution_count": 2,
   "id": "419c089d-2f4e-489a-8959-d128869ae0fe",
   "metadata": {},
   "outputs": [
    {
     "name": "stdin",
     "output_type": "stream",
     "text": [
      "Please provide a set of numbers with space between them:  6 7 8 9 5 4 3 2\n"
     ]
    },
    {
     "name": "stdout",
     "output_type": "stream",
     "text": [
      "The sum of even numbers is: 20\n"
     ]
    }
   ],
   "source": [
    "#1. Write a Python function that takes a list of numbers as input and returns the sum of all even numbers in\n",
    "#the list.\n",
    "def add():\n",
    "    num_str = input('Please provide a set of numbers with space between them: ')\n",
    "    numbers = [int(x) for x in num_str.split()]\n",
    "    even_numbers = [num for num in numbers if num % 2 == 0]\n",
    "    if even_numbers:\n",
    "        total = sum(even_numbers)\n",
    "        print(f\"The sum of even numbers is: {total}\")\n",
    "    else:\n",
    "        print(\"The set of numbers is invalid\")    \n",
    "add()"
   ]
  },
  {
   "cell_type": "code",
   "execution_count": 3,
   "id": "b5ab978e-7f7c-4d70-8dbf-6132b641a1d9",
   "metadata": {},
   "outputs": [
    {
     "name": "stdin",
     "output_type": "stream",
     "text": [
      "Please enter a string:  musafa\n"
     ]
    },
    {
     "name": "stdout",
     "output_type": "stream",
     "text": [
      "The reverse of the string is: afasum\n"
     ]
    }
   ],
   "source": [
    "#2. Create a Python function that accepts a string and returns the reverse of that string.\n",
    "\n",
    "def reverse_s():\n",
    "    s = input(\"Please enter a string: \")\n",
    "    s=str(s)\n",
    "    reversed_s = s[::-1]\n",
    "    print(f\"The reverse of the string is: {reversed_s}\")\n",
    "\n",
    "reverse_s()\n"
   ]
  },
  {
   "cell_type": "code",
   "execution_count": 4,
   "id": "1934694d-d79a-4474-b434-8fc3ed55925b",
   "metadata": {},
   "outputs": [
    {
     "name": "stdout",
     "output_type": "stream",
     "text": [
      "[1, 4, 9, 16, 25]\n"
     ]
    }
   ],
   "source": [
    "#3. Implement a Python function that takes a list of integers and returns a new list containing the squares \n",
    "#each number.\n",
    "def square_list(*num):\n",
    "    l=[]\n",
    "    for n in num:\n",
    "         if  int(n) or float(n):\n",
    "           l.append(n**2)\n",
    "         else: \n",
    "            print('invalid input')\n",
    "    return l\n",
    "print(square_list(1,2,3,4,5))"
   ]
  },
  {
   "cell_type": "code",
   "execution_count": 1,
   "id": "49f3fd2e-7306-476d-8b17-250a441de37d",
   "metadata": {},
   "outputs": [
    {
     "name": "stdin",
     "output_type": "stream",
     "text": [
      "enter a number 65\n"
     ]
    },
    {
     "name": "stdout",
     "output_type": "stream",
     "text": [
      "65 is not a prime number.\n"
     ]
    }
   ],
   "source": [
    "#4. Write a Python function that checks if a given number is prime or not from 1 to 200.\n",
    "def is_prime():\n",
    "    n=int(input('enter a number'))\n",
    "    if n < 1 or n > 200:\n",
    "        print(\"Invalid input. Please enter a number between 1 and 200.\")\n",
    "        return\n",
    "    \n",
    "    if n==1:\n",
    "        print(f'{n},is not a prime number')\n",
    "        return\n",
    "    \n",
    "    for i in range(2,200):\n",
    "        if n % i == 0:\n",
    "            print(f'{n} is not a prime number.')\n",
    "            return\n",
    "\n",
    "    print(f'{n} is a prime number.')\n",
    "    \n",
    "is_prime()"
   ]
  },
  {
   "cell_type": "code",
   "execution_count": 4,
   "id": "618fc781-d414-4bac-bacc-31157c09de93",
   "metadata": {},
   "outputs": [
    {
     "name": "stdout",
     "output_type": "stream",
     "text": [
      "0\n",
      "1\n",
      "1\n",
      "2\n",
      "3\n",
      "\n",
      "Using for in loop\n",
      "0\n",
      "1\n",
      "1\n",
      "2\n",
      "3\n"
     ]
    }
   ],
   "source": [
    "#5. Create an iterator class in Python that generates the Fibonacci sequence up to a specified number of terms.\n",
    "# A simple generator for Fibonacci Numbers\n",
    "def fib(limit):\n",
    "    # Initialize first two Fibonacci Numbers \n",
    "    a, b = 0, 1\n",
    "    # One by one yield next Fibonacci Number\n",
    "    while a < limit:\n",
    "        yield a\n",
    "        a, b = b, a + b\n",
    "\n",
    "# Create a generator object\n",
    "x = fib(5)\n",
    "# Iterating over the generator object using next\n",
    "# In Python 3, __next__()\n",
    "print(next(x)) \n",
    "print(next(x))\n",
    "print(next(x))\n",
    "print(next(x))\n",
    "print(next(x))\n",
    "# Iterating over the generator object using for\n",
    "# in loop.\n",
    "print(\"\\nUsing for in loop\")\n",
    "for i in fib(5): \n",
    "    print(i)\n"
   ]
  },
  {
   "cell_type": "code",
   "execution_count": 5,
   "id": "2978ffb4-72da-44c3-86e7-060840bdb8e7",
   "metadata": {},
   "outputs": [
    {
     "name": "stdout",
     "output_type": "stream",
     "text": [
      "1\n",
      "2\n",
      "4\n",
      "8\n",
      "16\n",
      "32\n",
      "64\n",
      "128\n"
     ]
    }
   ],
   "source": [
    "#6. Write a generator function in Python that yields the powers of 2 up to a given exponent.\n",
    "def powers_of_two(exponents):\n",
    "    for i in range(exponents + 1):\n",
    "        yield 2 ** i\n",
    "func=(powers_of_two(7)) \n",
    "print(next(func))  # 1\n",
    "print(next(func))  # 2\n",
    "print(next(func))  # 4\n",
    "for power in func:\n",
    "    print(power)  "
   ]
  },
  {
   "cell_type": "code",
   "execution_count": 6,
   "id": "1e3881a2-bbb8-4261-9798-132504e63246",
   "metadata": {},
   "outputs": [
    {
     "name": "stdout",
     "output_type": "stream",
     "text": [
      "Amish Tripathi's Shiva Trilogy consists of three books: “The Immortals of Meluha”, “The Mystery of the Nagas”, and “The Pledge of the Vayuputras”\n",
      "It is a piece of historical fiction that retells the tale of Shiva, a Hindu deity who is frequently praised in Hindu mythology as the destroyer of evil\n",
      "The series traces Shiva's development from a mortal to Mahadev, the god of gods\n",
      "This is one of my favourite books on Indian mythology\n",
      "This is like the whole package because it features romance, action, fantastic characters, and an engaging plot\n",
      "\n"
     ]
    }
   ],
   "source": [
    "#7. Implement a generator function that reads a file line by line and yields each line as a string.\n",
    "read = \"\"\"Amish Tripathi's Shiva Trilogy consists of three books: “The Immortals of Meluha”, “The Mystery of the Nagas”, and “The Pledge of the Vayuputras”.\n",
    "It is a piece of historical fiction that retells the tale of Shiva, a Hindu deity who is frequently praised in Hindu mythology as the destroyer of evil.\n",
    "The series traces Shiva's development from a mortal to Mahadev, the god of gods.\n",
    "This is one of my favourite books on Indian mythology.\n",
    "This is like the whole package because it features romance, action, fantastic characters, and an engaging plot.\"\"\"\n",
    "\n",
    "def read_file_lines(file_path):\n",
    "    lines = file_path.split('.')\n",
    "    for line in lines:\n",
    "        yield line.strip()\n",
    "\n",
    "for line in read_file_lines(read):\n",
    "    print(line)"
   ]
  },
  {
   "cell_type": "code",
   "execution_count": 8,
   "id": "9a4279cf-5414-4547-91be-12bffdbed6a4",
   "metadata": {},
   "outputs": [
    {
     "name": "stdout",
     "output_type": "stream",
     "text": [
      "[(2, 1), (3, 2), (1, 3), (5, 3), (4, 4)]\n"
     ]
    }
   ],
   "source": [
    "#8. Use a lambda function in Python to sort a list of tuples based on the second element of each tuple.\n",
    "my_list = [(1, 3), (2, 1), (3, 2), (4, 4), (5, 3)]\n",
    "sorted_list = sorted(my_list, key=lambda x: x[1])\n",
    "print(sorted_list)"
   ]
  },
  {
   "cell_type": "code",
   "execution_count": 9,
   "id": "9aa00ec8-f6ae-478b-98c6-7a3003ef8af4",
   "metadata": {},
   "outputs": [
    {
     "name": "stdout",
     "output_type": "stream",
     "text": [
      "[32.0, 50.0, 68.0, 86.0, 104.0, 122.0]\n"
     ]
    }
   ],
   "source": [
    "#9. Write a Python program that uses `map()` to convert a list of temperatures from Celsius to Fahrenheit.\n",
    "celsius = [0, 10, 20, 30, 40, 50]\n",
    "print(list(map(lambda c: (c * 9/5)+32, celsius)))"
   ]
  },
  {
   "cell_type": "code",
   "execution_count": 10,
   "id": "3ae396e0-1942-42a4-9012-350c5f78d67c",
   "metadata": {},
   "outputs": [
    {
     "name": "stdout",
     "output_type": "stream",
     "text": [
      " mt my schl frnds tdy nd w flt nstlgc\n"
     ]
    }
   ],
   "source": [
    "#10. Create a Python program that uses `filter()` to remove all the vowels from a given string\n",
    "sentence = 'i met my school friends today and we felt nostalgic'\n",
    "vowels = 'aeiouAEIOU'\n",
    "print(''.join(filter(lambda a: a not in vowels, sentence)))"
   ]
  },
  {
   "cell_type": "code",
   "execution_count": null,
   "id": "a9836ae9-15a6-4938-88dd-a39fc7336fcd",
   "metadata": {},
   "outputs": [],
   "source": []
  }
 ],
 "metadata": {
  "kernelspec": {
   "display_name": "Python 3 (ipykernel)",
   "language": "python",
   "name": "python3"
  },
  "language_info": {
   "codemirror_mode": {
    "name": "ipython",
    "version": 3
   },
   "file_extension": ".py",
   "mimetype": "text/x-python",
   "name": "python",
   "nbconvert_exporter": "python",
   "pygments_lexer": "ipython3",
   "version": "3.10.8"
  }
 },
 "nbformat": 4,
 "nbformat_minor": 5
}
