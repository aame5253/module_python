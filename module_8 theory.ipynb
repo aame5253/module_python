{
 "cells": [
  {
   "cell_type": "code",
   "execution_count": 6,
   "id": "0deec87c-2bca-4b20-b40e-743c9bd859f0",
   "metadata": {},
   "outputs": [
    {
     "data": {
      "text/plain": [
       "'\\nNumPy(Numerical Python) is a Python library used for working with arrays.\\nIt also has functions for working in domain of linear algebra, fourier transform, and matrices.\\nNumPy was created in 2005 by Travis Oliphant. It is an open source project and you can use it freely.\\n#advantages:\\nvectorized code is more concise and easier to read\\nfewer lines of code generally means fewer bugs\\nthe code more closely resembles standard mathematical notation (making it easier, typically, to correctly code\\nmathematical constructs)\\nvectorization results in more “Pythonic” code. Without vectorization, our code would be littered with inefficient \\nand difficult to read for loops.\\n'"
      ]
     },
     "execution_count": 6,
     "metadata": {},
     "output_type": "execute_result"
    }
   ],
   "source": [
    "#1. Explain the purpose and advantages of NumPy in scientific computing and data analysis. How does it\n",
    "#enhance Python's capabilities for numerical operations?\n",
    "\"\"\"\n",
    "NumPy(Numerical Python) is a Python library used for working with arrays.\n",
    "It also has functions for working in domain of linear algebra, fourier transform, and matrices.\n",
    "NumPy was created in 2005 by Travis Oliphant. It is an open source project and you can use it freely.\n",
    "#advantages:\n",
    "vectorized code is more concise and easier to read\n",
    "fewer lines of code generally means fewer bugs\n",
    "the code more closely resembles standard mathematical notation (making it easier, typically, to correctly code\n",
    "mathematical constructs)\n",
    "vectorization results in more “Pythonic” code. Without vectorization, our code would be littered with inefficient \n",
    "and difficult to read for loops.\n",
    "\"\"\""
   ]
  },
  {
   "cell_type": "code",
   "execution_count": 2,
   "id": "6155d4ab-d138-4106-8b94-43cf84e12623",
   "metadata": {},
   "outputs": [
    {
     "name": "stdout",
     "output_type": "stream",
     "text": [
      "['d' 'c' 'b' 'a' '6' '5' '4' '3' '2' '1']\n",
      "[[4 5 6]\n",
      " [1 2 3]]\n",
      "[[3 2 1]\n",
      " [6 5 4]]\n",
      "[[4 5 6]\n",
      " [1 2 3]]\n",
      "[[3 2 1]\n",
      " [6 5 4]]\n"
     ]
    }
   ],
   "source": [
    "#3. Describe the methods for reversing a NumPy array along different axes. Provide examples for 1D and 2D\n",
    "#arrays.\n",
    "import numpy as np\n",
    "\"\"\"\n",
    "1. Slicing with [::-1]:\n",
    "This is the most basic and versatile method, applicable to any axis. It uses the stride notation\n",
    " [::-1] to reverse the element order.\n",
    " \"\"\"\n",
    "lis=[1,2,3,4,5,6,'a','b','c','d']\n",
    "arr2=(np.array(lis))\n",
    "print(arr2[::-1])\n",
    "\"\"\"\n",
    "2. FLIP:\n",
    "The flip function allows you to specify the axis along which to reverse the elements.\n",
    "\"\"\"\n",
    "a=np.array([[1,2,3],[4,5,6]])\n",
    "reversed_rows = np.flip(a,0)\n",
    "print(reversed_rows) \n",
    "reversed_columns = np.flip(a,1)\n",
    "print(reversed_columns)\n",
    "\"\"\"\n",
    "3. flipud and fliplr functions:\n",
    "These functions are shortcuts for flipping arrays vertically (up-down) and horizontally (left-right) respectively.\n",
    " They are equivalent to flip(axis=0) and flip(axis=1) for 2D arrays.\n",
    " \"\"\"\n",
    "flipped_ud = np.flipud(a)#rows\n",
    "print(flipped_ud) \n",
    "flipped_lr = np.fliplr(a)#column\n",
    "print(flipped_lr)\n"
   ]
  },
  {
   "cell_type": "code",
   "execution_count": 7,
   "id": "0f5ab9d3-0d4b-426d-add7-4e4a7c6b1cbd",
   "metadata": {},
   "outputs": [
    {
     "name": "stdout",
     "output_type": "stream",
     "text": [
      "ARRAY: [ 1  2  3  4  5  6  7  8  9 10]\n",
      "5.5\n",
      "Array : [ 1  2  3  4  5  6  7  8  9 10]\n",
      "AVERAGE:  5.5\n",
      "Weight average of Array :  6.574257425742574\n"
     ]
    }
   ],
   "source": [
    "#2. Compare and contrast np.mean() and np.average() functions in NumPy. When would you use one over the\n",
    "#other?\n",
    "'''MEAN:In numpy library, np.mean() is a function used to calculate arithmetic mean of the given array\n",
    "along with the axis.\n",
    "All elements have equal weight\n",
    "Weight cannot be passed trough the parameter of the given function.\n",
    "Syntax :\n",
    "np.mean(arr, axis = None)'''\n",
    "import numpy as np\n",
    "arr=np.array([1,2,3,4,5,6,7,8,9,10])\n",
    "print(\"ARRAY:\",arr)\n",
    "print(np.mean(arr))#mean of array\n",
    "'''AVERAGE():The arithmetic mean and weighted average calculations are more flexible with np.average().\n",
    "It can calculate the weighted average if we pass the weight; if not, it returns the same value as np.mean().\n",
    "This implies that the arithmetic mean is the result when we do not pass the weight condition.\n",
    "Use this function when you have special cases where certain numbers carry more weight.\n",
    "Syntax :\n",
    "numpy.average(arr, axis = None, weights = None)'''\n",
    "arr = np.array([1,2,3,4,5,6,7,8,9,10])\n",
    "print(\"Array :\",arr,)\n",
    "print(\"AVERAGE: \",np.average(arr))\n",
    "weight = np.array([4,5,6,12,15,10,2,8,19,20])\n",
    "print(\"Weight average of Array : \",np.average(arr, weights=weight))"
   ]
  },
  {
   "cell_type": "code",
   "execution_count": 3,
   "id": "e9b85c5d-0ed2-48f4-a236-5e7f36313ffa",
   "metadata": {},
   "outputs": [
    {
     "name": "stdout",
     "output_type": "stream",
     "text": [
      "Data type: int64\n",
      "datatype: <U21\n"
     ]
    }
   ],
   "source": [
    "#4. How can you determine the data type of elements in a NumPy array? Discuss the importance of data types\n",
    "#in memory management and performance.\n",
    "'''A data type in NumPy is used to specify the type of data stored in a variable.\n",
    "We can check the datatype of Numpy array by using dtype.\n",
    " Then it returns the data type all the elements in the array.'''\n",
    "import numpy as np\n",
    "arr = np.array([1, 2, 3, 4, 5])\n",
    "data_type = arr.dtype\n",
    "print(\"Data type:\", data_type)\n",
    "lis=[1,2,3,4,5,6,'a','b','c','d']\n",
    "arr2=(np.array(lis))#numpy array can store only one data type\n",
    "data_type=arr2.dtype\n",
    "print('datatype:',data_type)\n"
   ]
  },
  {
   "cell_type": "code",
   "execution_count": 4,
   "id": "31980df9-4a76-4b68-a850-0f92902cb8a5",
   "metadata": {},
   "outputs": [
    {
     "name": "stdout",
     "output_type": "stream",
     "text": [
      "['1' '2' '3' '4' '5' '6' 'a' 'b' 'c' 'd']\n"
     ]
    }
   ],
   "source": [
    "#5. Define ndarrays in NumPy and explain their key features. How do they differ from standard Python lists?\n",
    "\"\"\">>An ndarray is a (usually fixed-size) multidimensional container of items of the same type and size.\n",
    " The number of dimensions and items in an array is defined by its shape, which is a tuple of N non-negative\n",
    "  integers that specify the sizes of each dimension unlike list .\n",
    ">>As with other container objects in Python, the contents of an ndarray can be accessed and modified by \n",
    "indexing or slicing the array.\n",
    ">>numpy is a altogether separate module unlike list which is a data structure\n",
    ">>Different ndarrays can share the same data, so that changes made in one ndarray may be visible in another.\"\"\"\n",
    "import numpy as np\n",
    "lis=[1,2,3,4,5,6,'a','b','c','d']\n",
    "arr2=(np.array(lis))#numpy array can store only one data type\n",
    "print(arr2)"
   ]
  },
  {
   "cell_type": "code",
   "execution_count": 5,
   "id": "4fa71651-d777-4c57-adc2-b8f400c83cc1",
   "metadata": {},
   "outputs": [
    {
     "data": {
      "text/plain": [
       "\"\\nElement-wise operation is possible Numpy array has various functions, methods, and variables, to ease our task of \\nmatrix computation.Elements of an array are stored contiguously in memory. For example,\\n all rows of a two-dimensioned array must have the same number of columns.\\n  A three-dimensional array must have the same number of rows and columns on each card\\n1.Speed Boost\\n2.Memory Usage\\n3.Advanced Functions\\n4.Multidimensional Data\\n5.Broad Compatibility\\n6.Ease of Learning\\n7.Here's what else to consider\\n\""
      ]
     },
     "execution_count": 5,
     "metadata": {},
     "output_type": "execute_result"
    }
   ],
   "source": [
    "#6. Analyze the performance benefits of NumPy arrays over Python lists for large-scale numerical operations.\n",
    "\"\"\"\n",
    "Element-wise operation is possible Numpy array has various functions, methods, and variables, to ease our task of \n",
    "matrix computation.Elements of an array are stored contiguously in memory. For example,\n",
    " all rows of a two-dimensioned array must have the same number of columns.\n",
    "  A three-dimensional array must have the same number of rows and columns on each card\n",
    "1.Speed Boost\n",
    "2.Memory Usage\n",
    "3.Advanced Functions\n",
    "4.Multidimensional Data\n",
    "5.Broad Compatibility\n",
    "6.Ease of Learning\n",
    "7.Here's what else to consider\n",
    "\"\"\""
   ]
  },
  {
   "cell_type": "code",
   "execution_count": 8,
   "id": "0db582a5-6067-4f50-b7b0-1985d5c7c4da",
   "metadata": {},
   "outputs": [
    {
     "name": "stdout",
     "output_type": "stream",
     "text": [
      "[[1 2 3]\n",
      " [4 5 6]]\n",
      "[1 2 3 4 5 6]\n"
     ]
    }
   ],
   "source": [
    "#7. Compare vstack() and hstack() functions in NumPy. Provide examples demonstrating their usage and\n",
    "#output.\n",
    "'''vstack:\n",
    "Vertical stacking of arrays is done by vstack() function in numpy library.\n",
    "Syntax :\n",
    "numpy.vstack((arr1, arr2, arr3,...))'''\n",
    "import numpy as np\n",
    "array1 = np.array([1, 2, 3])\n",
    "array2 = np.array([4, 5, 6])\n",
    "result = np.vstack((array1, array2))\n",
    "print(result)\n",
    "'''hstack:\n",
    "Horizontal stacking of arrays is done by hstack() function in numpy library.\n",
    "Syntax :\n",
    "numpy.hstack((arr1, arr2, arr3,...))'''\n",
    "array1 = np.array([1, 2, 3])\n",
    "array2 = np.array([4, 5, 6])\n",
    "result = np.hstack((array1, array2))\n",
    "print(result)\n"
   ]
  },
  {
   "cell_type": "code",
   "execution_count": null,
   "id": "d1f7cf26-140f-42be-a9a1-cfb679667666",
   "metadata": {},
   "outputs": [],
   "source": [
    "#8. Explain the differences between fliplr() and flipud() methods in NumPy, including their effects on various\n",
    "#array dimensions.\n",
    "'''fliplr:\n",
    "Flip the array horizontally by fliplr() function in numpy library.\n",
    "Syntax :\n",
    "numpy.fliplr(arr)'''\n",
    "import numpy as np\n",
    "arr = np.array([[1, 2, 3], [4, 5,6], [7, 8, 9]])\n",
    "print(\"Original array: \", arr)\n",
    "print(\"Flipped array: \", np.fliplr(arr))\n",
    "'''flipud:\n",
    "Flip the array vertically by flipud() function in numpy library.\n",
    "Syntax :\n",
    "numpy.flipud(arr)'''\n",
    "arr = np.array([[1, 2, 3], [4, 5,6], [7, 8, 9]])\n",
    "print(\"Original array: \", arr)\n",
    "print(\"Flipped array: \", np.flipud(arr))"
   ]
  },
  {
   "cell_type": "code",
   "execution_count": null,
   "id": "d9af03d6",
   "metadata": {},
   "outputs": [],
   "source": [
    "#9. Discuss the functionality of the array_split() method in NumPy. How does it handle uneven splits?\n",
    "'''array_split:\n",
    "Split the array into multiple sub-arrays by array_split() function in numpy library.\n",
    "Syntax :\n",
    "numpy.array_split(arr, indices_or_sections)'''\n",
    "import numpy as np\n",
    "arr = np.arange(11)  # Create an array of length 11\n",
    "sub_arrays = np.array_split(arr,4)  # Split the array into 3 sub-arrays\n",
    "print(sub_arrays)\n",
    "\n",
    "arr_1=np.array(list('this is a array split'))\n",
    "sub_arr=np.array_split(arr_1,5)\n",
    "print(sub_arr)\n",
    "\"\"\"Handling uneven splits:\n",
    "If the length of the array is not exactly divisible by the number of sections, array_split() will handle the uneven split\n",
    "by distributing the remaining elements as evenly as possible among the sub-arrays.\"\"\"\n",
    "arr = np.arange(15)\n",
    "sub_arrays = np.array_split(arr, 4)\n",
    "print(sub_arrays)"
   ]
  },
  {
   "cell_type": "code",
   "execution_count": null,
   "id": "4ce4b8c7",
   "metadata": {},
   "outputs": [],
   "source": [
    "#10. Explain the concepts of vectorization and broadcasting in NumPy. How do they contribute to efficient array\n",
    "#operations?\n",
    "'''Vectorization:\n",
    "Vectorization is a process in which a single operation is applied to all elements of an array at once\n",
    "This approach eliminates the need for explicit loops, making computations faster and more efficient'''\n",
    "import numpy as np\n",
    "arr = np.array([1, 2, 3, 4, 5])\n",
    "squared_arr = arr ** 2\n",
    "print(squared_arr)\n",
    "'''Broadcasting\n",
    "Broadcasting is a process in which an operation is applied to an array and a scalar value at once\n",
    "This approach allows for efficient operations on arrays with different shapes'''\n",
    "arr1 = np.array([1, 2, 3])  # shape (3,)\n",
    "arr2 = np.array([[4], [5], [6]])  # shape (3, 1)\n",
    "result = arr1 + arr2\n",
    "print(result) "
   ]
  }
 ],
 "metadata": {
  "kernelspec": {
   "display_name": "Python 3 (ipykernel)",
   "language": "python",
   "name": "python3"
  },
  "language_info": {
   "codemirror_mode": {
    "name": "ipython",
    "version": 3
   },
   "file_extension": ".py",
   "mimetype": "text/x-python",
   "name": "python",
   "nbconvert_exporter": "python",
   "pygments_lexer": "ipython3",
   "version": "3.10.8"
  }
 },
 "nbformat": 4,
 "nbformat_minor": 5
}
