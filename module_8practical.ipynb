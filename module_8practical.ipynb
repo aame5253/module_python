{
 "cells": [
  {
   "cell_type": "code",
   "execution_count": null,
   "id": "6ac0c1f0-07cb-4f51-9d82-f447081e4d19",
   "metadata": {},
   "outputs": [
    {
     "name": "stdout",
     "output_type": "stream",
     "text": [
      "original array\n",
      "[[75 85  4]\n",
      " [82 80 35]\n",
      " [17 50 52]]\n",
      "array after transposing\n",
      "[[75 82 17]\n",
      " [85 80 50]\n",
      " [ 4 35 52]]\n"
     ]
    }
   ],
   "source": [
    "#PRACTICAL QUESTIONS:\n",
    "#1. Create a 3x3 NumPy array with random integers between 1 and 100. Then, interchange its rows and columns.\n",
    "import numpy as np\n",
    "arr=np.random.randint(1,100,size=(3,3))\n",
    "print('original array')\n",
    "print(arr)\n",
    "# Interchange rows and columns using np.transpose() function\n",
    "arr_transposed=np.transpose(arr)\n",
    "print('array after transposing')\n",
    "print(arr_transposed)"
   ]
  },
  {
   "cell_type": "code",
   "execution_count": null,
   "id": "c945b593-9277-47e6-b74f-b2935150d59b",
   "metadata": {},
   "outputs": [
    {
     "name": "stdout",
     "output_type": "stream",
     "text": [
      "original array:\n",
      "[ 11  22  33  44  55  66  77  88  99 111]\n",
      "2x5 array:\n",
      "[[ 11  22  33  44  55]\n",
      " [ 66  77  88  99 111]]\n",
      "5x2 array:\n",
      "[[ 11  22]\n",
      " [ 33  44]\n",
      " [ 55  66]\n",
      " [ 77  88]\n",
      " [ 99 111]]\n"
     ]
    }
   ],
   "source": [
    "#2. Generate a 1D NumPy array with 10 elements. Reshape it into a 2x5 array, then into a 5x2 array.\n",
    "import numpy as np\n",
    "arr=np.array([11,22,33,44,55,66,77,88,99,111])\n",
    "print('original array:')\n",
    "print(arr)\n",
    "# Reshape the array into a 2x5 array\n",
    "reshaped_arr=arr.reshape(2,5)\n",
    "print('2x5 array:')\n",
    "print(reshaped_arr)\n",
    "# Reshape the array into a 5x2 array\n",
    "new_arr=arr.reshape(5,2)\n",
    "print('5x2 array:')\n",
    "print(new_arr)"
   ]
  },
  {
   "cell_type": "code",
   "execution_count": null,
   "id": "159e79a0-4a78-4b13-b3ed-cda03fc29542",
   "metadata": {},
   "outputs": [
    {
     "name": "stdout",
     "output_type": "stream",
     "text": [
      "original 4x4 array\n",
      "[[9.97740245 2.0707987  5.18037851 4.98296738]\n",
      " [9.36078733 7.34118947 1.23070057 5.6158883 ]\n",
      " [5.22690639 6.19983659 6.11072457 4.54093556]\n",
      " [6.66237801 8.24666136 9.66534856 8.04057413]]\n"
     ]
    }
   ],
   "source": [
    "#3. Create a 4x4 NumPy array with random float values. Add a border of zeros around it, resulting in a 6x6 array.\n",
    "import numpy as np\n",
    "# Create a 4x4 NumPy array with random float values\n",
    "arr_4x4=np.random.uniform(1,10,size=(4,4))\n",
    "print('original 4x4 array')\n",
    "print(arr_4x4)\n",
    "# Add a border of zeros around the 4x4 array, resulting in a 6x6 array\n",
    "arr_6x6=np.zeros((6,6))\n",
    "arr_6x6[1:5,1:5]=arr_4x4\n",
    "print ('array with zeros in there border modified to 6x6')\n",
    "print(arr_6x6)"
   ]
  },
  {
   "cell_type": "code",
   "execution_count": null,
   "id": "e4b5a519-0626-4d08-8b26-385a96001956",
   "metadata": {},
   "outputs": [
    {
     "name": "stdout",
     "output_type": "stream",
     "text": [
      "[10 15 20 25 30 35 40 45 50 55 60]\n"
     ]
    }
   ],
   "source": [
    "#4. Using NumPy, create an array of integers from 10 to 60 with a step of 5.\n",
    "import numpy as np\n",
    "arr=np.arange(10,61,5)\n",
    "print(arr)\n"
   ]
  },
  {
   "cell_type": "code",
   "execution_count": null,
   "id": "23d8c028-58f1-4cda-8b0b-7761f189e586",
   "metadata": {},
   "outputs": [
    {
     "name": "stdout",
     "output_type": "stream",
     "text": [
      "uppercase array\n",
      "['PYTHON' 'NUMPY' 'PANDAS']\n",
      "lowercase array\n",
      "['python' 'numpy' 'pandas']\n",
      "title case array\n",
      "['Python' 'Numpy' 'Pandas']\n"
     ]
    }
   ],
   "source": [
    "#5. Create a NumPy array of strings ['python', 'numpy', 'pandas']. Apply different case transformations\n",
    "#(uppercase, lowercase, title case, etc.) to each element.\n",
    "import numpy as np\n",
    "arr = np.array(['pyThOn', 'NuMpy', 'pAndAs'])\n",
    "# Apply uppercase transformation\n",
    "uppercase_arr = np.array([x.upper() for x in arr])\n",
    "print('uppercase array')\n",
    "print(uppercase_arr)\n",
    "# Apply lowercase transformation\n",
    "lowercase_arr = np.array([x.lower() for x in arr])\n",
    "print('lowercase array')\n",
    "print(lowercase_arr)\n",
    "# Apply title case transformation\n",
    "title_arr = np.array([x.title() for x in arr])\n",
    "print('title case array')\n",
    "print(title_arr)\n"
   ]
  },
  {
   "cell_type": "code",
   "execution_count": null,
   "id": "59ebc62b-0866-4527-ab87-e6fa5d09028d",
   "metadata": {},
   "outputs": [
    {
     "name": "stdout",
     "output_type": "stream",
     "text": [
      "['l i l a c' 'b e i g e' 't u r q u o i s e' 'c r i m s o n' 'w h i t e']\n"
     ]
    }
   ],
   "source": [
    "#6. Generate a NumPy array of words. Insert a space between each character of every word in the array.\n",
    "import numpy as np\n",
    "arr = np.array(['lilac','beige','turquoise','crimson','white'])\n",
    "# Insert a space between each character of every word in the array\n",
    "arr_with_spaces = np.array(list(map(lambda x: ' '.join(x), arr)))\n",
    "print(arr_with_spaces)"
   ]
  },
  {
   "cell_type": "code",
   "execution_count": null,
   "id": "29e6c86e-65eb-4374-8e59-67233d863446",
   "metadata": {},
   "outputs": [
    {
     "name": "stdout",
     "output_type": "stream",
     "text": [
      "original array 1:\n",
      "[[1 1]\n",
      " [2 3]]\n",
      "original array 2:\n",
      "[[3 2]\n",
      " [2 4]]\n",
      "element wise addition\n",
      "[[4 3]\n",
      " [4 7]]\n",
      "element wise subtraction\n",
      "[[-2 -1]\n",
      " [ 0 -1]]\n",
      "element wise multiplication\n",
      "[[ 3  2]\n",
      " [ 4 12]]\n",
      "element wise division\n",
      "[[0.33333333 0.5       ]\n",
      " [1.         0.75      ]]\n"
     ]
    }
   ],
   "source": [
    "#7. Create two 2D NumPy arrays and perform element-wise addition, subtraction, multiplication, and division\n",
    "import numpy as np\n",
    "x=np.random.randint(1,5,(2,2))\n",
    "y=np.random.randint(1,5,(2,2))\n",
    "print (\"original array 1:\" )\n",
    "print(x)\n",
    "print(\"original array 2:\")\n",
    "print(y)\n",
    "print('element wise addition')\n",
    "print(x+y)\n",
    "print('element wise subtraction')\n",
    "print(x-y)\n",
    "print('element wise multiplication')\n",
    "print(x*y)\n",
    "print('element wise division')\n",
    "print(x/y)"
   ]
  },
  {
   "cell_type": "code",
   "execution_count": null,
   "id": "58050c2c-4e0d-4519-973a-24921dde3f5f",
   "metadata": {},
   "outputs": [
    {
     "name": "stdout",
     "output_type": "stream",
     "text": [
      "Identity Matrix:\n",
      "[[1. 0. 0. 0. 0.]\n",
      " [0. 1. 0. 0. 0.]\n",
      " [0. 0. 1. 0. 0.]\n",
      " [0. 0. 0. 1. 0.]\n",
      " [0. 0. 0. 0. 1.]]\n",
      "Diagonal Elements:\n",
      "[1. 1. 1. 1. 1.]\n"
     ]
    }
   ],
   "source": [
    "#8. Use NumPy to create a 5x5 identity matrix, then extract its diagonal elements\n",
    "import numpy as np\n",
    "#5x5 matrix\n",
    "arr = np.eye(5)\n",
    "# Print the entire matrix\n",
    "print(\"Identity Matrix:\")\n",
    "print(arr)\n",
    "# Extract and print the diagonal elements\n",
    "diagonal_elements = np.diagonal(arr)\n",
    "print(\"Diagonal Elements:\")\n",
    "print(diagonal_elements)"
   ]
  },
  {
   "cell_type": "code",
   "execution_count": null,
   "id": "c745d13c-21cd-4f10-82a8-7a6c9832ac50",
   "metadata": {},
   "outputs": [],
   "source": [
    "#9. Generate a NumPy array of 100 random integers between 0 and 1000. Find and display all prime numbers in\n",
    "#this array.\n",
    "import numpy as np\n",
    "import math\n",
    "# Generate a NumPy array of 100 random integers between 0 and 1000\n",
    "arr = np.random.randint(0, 1000, size=(100,))\n",
    "print('Array of 100 random numbers:')\n",
    "print(arr)\n",
    "\n",
    "# Function to check if a number is prime\n",
    "def is_prime(n):\n",
    "    if n <= 1:\n",
    "        return False\n",
    "    for i in range(2, int(math.sqrt(n)) + 1):\n",
    "        if n % i == 0:\n",
    "            return False\n",
    "    return True\n",
    "\n",
    "# Find and display all prime numbers in the array\n",
    "prime_numbers = [x for x in arr if is_prime(x)]\n",
    "print('Prime numbers in the array:')\n",
    "print(prime_numbers)"
   ]
  },
  {
   "cell_type": "code",
   "execution_count": null,
   "id": "3fccc61b",
   "metadata": {},
   "outputs": [],
   "source": [
    "#10. Create a NumPy array representing daily temperatures for a month. Calculate and display the weekly\n",
    "#averages\n",
    "import numpy as np\n",
    "# Create a NumPy array representing daily temperatures for a month\n",
    "arr = np.array([23, 21, 19, 22, 20, 18, 21,\n",
    "19, 22, 20, 17, 18, 19, 20,\n",
    "21, 19, 20, 21, 22, 23, 24,\n",
    "25, 26, 27, 28, 29, 30, 31,\n",
    "32, 33])\n",
    "# Calculate and display the weekly averages\n",
    "weekly_averages = np.array([np.mean(arr[i:i+7]) for i in range(0, len(arr), 7)])\n",
    "print('Weekly averages:')\n",
    "print(weekly_averages)"
   ]
  }
 ],
 "metadata": {
  "kernelspec": {
   "display_name": "Python 3 (ipykernel)",
   "language": "python",
   "name": "python3"
  },
  "language_info": {
   "codemirror_mode": {
    "name": "ipython",
    "version": 3
   },
   "file_extension": ".py",
   "mimetype": "text/x-python",
   "name": "python",
   "nbconvert_exporter": "python",
   "pygments_lexer": "ipython3",
   "version": "3.10.8"
  }
 },
 "nbformat": 4,
 "nbformat_minor": 5
}
