{
  "nbformat": 4,
  "nbformat_minor": 0,
  "metadata": {
    "colab": {
      "provenance": []
    },
    "kernelspec": {
      "name": "python3",
      "display_name": "Python 3"
    },
    "language_info": {
      "name": "python"
    }
  },
  "cells": [
    {
      "cell_type": "code",
      "execution_count": null,
      "metadata": {
        "colab": {
          "base_uri": "https://localhost:8080/",
          "height": 122
        },
        "id": "DUkAF7fVln9_",
        "outputId": "e4ead993-b05f-4c4a-ebc9-9f3881233d9c"
      },
      "outputs": [
        {
          "output_type": "execute_result",
          "data": {
            "text/plain": [
              "'\\n\\nThe z-statistic, also known as the z-score, is a measure of how many standard deviations an element is from the mean.\\nIt is a dimensionless quantity that describes the number of standard deviations from the mean a data point is.\\n\\nThe z-statistic is closely related to the standard normal distribution, also known as the z-distribution.\\nThe standard normal distribution is a normal distribution with a mean of 0 and a standard deviation of 1.\\nThe z-statistic is used to transform any normal distribution into a standard normal distribution.\\n\\nUsing Z-Statistic in Hypothesis Testing:\\n1.Testing a mean against a known population mean\\n2.Testing the difference between two means\\nIn hypothesis testing, the z-statistic is used to calculate the test statistic, which is then compared to a critical\\nvalue from the standard normal distribution. If the test statistic exceeds the critical value, the null hypothesis is rejected.\\n\\n'"
            ],
            "application/vnd.google.colaboratory.intrinsic+json": {
              "type": "string"
            }
          },
          "metadata": {},
          "execution_count": 8
        }
      ],
      "source": [
        "#Question1: Define the z-statistic and explain its relationship to the standard normal distribution. How is the\n",
        "#z-statistic used in hypothesis testing?\n",
        "'''\n",
        "\n",
        "The z-statistic, also known as the z-score, is a measure of how many standard deviations an element is from the mean.\n",
        "It is a dimensionless quantity that describes the number of standard deviations from the mean a data point is.\n",
        "\n",
        "The z-statistic is closely related to the standard normal distribution, also known as the z-distribution.\n",
        "The standard normal distribution is a normal distribution with a mean of 0 and a standard deviation of 1.\n",
        "The z-statistic is used to transform any normal distribution into a standard normal distribution.\n",
        "\n",
        "Using Z-Statistic in Hypothesis Testing:\n",
        "1.Testing a mean against a known population mean\n",
        "2.Testing the difference between two means\n",
        "In hypothesis testing, the z-statistic is used to calculate the test statistic, which is then compared to a critical\n",
        "value from the standard normal distribution. If the test statistic exceeds the critical value, the null hypothesis is rejected.\n",
        "\n",
        "'''"
      ]
    },
    {
      "cell_type": "code",
      "source": [
        "#Question2 : What is a p-value, and how is it used in hypothesis testing? What does it mean if the p-value is\n",
        "#very small (e.g., 0.01)?\n",
        "\"\"\"\n",
        "A p-value, short for probability value, is a measure of the strength of evidence against a null hypothesis in a hypothesis test.\n",
        "#P-Value Used in Hypothesis Testing\n",
        "-Formulate a null hypothesis\n",
        "-Formulate an alternative hpothesis\n",
        "-Collect data\n",
        "-Calculate the test statistic\n",
        "-Calculate the p-value\n",
        "-Make a decision\n",
        "\n",
        "A very small p-value (e.g., 0.01) indicates that the observed data are highly unlikely to occur if the null hypothesis were true.\n",
        " In other words, the data provide strong evidence against the null hypothesis.\n",
        "\"\"\""
      ],
      "metadata": {
        "colab": {
          "base_uri": "https://localhost:8080/",
          "height": 87
        },
        "id": "7Do3SM-7myEO",
        "outputId": "3c44184b-fa1f-4914-9ba8-25b7843645a9"
      },
      "execution_count": null,
      "outputs": [
        {
          "output_type": "execute_result",
          "data": {
            "text/plain": [
              "'\\nA p-value, short for probability value, is a measure of the strength of evidence against a null hypothesis in a hypothesis test.\\n#P-Value Used in Hypothesis Testing\\n-Formulate a null hypothesis\\n-Formulate an alternative hpothesis\\n-Collect data\\n-Calculate the test statistic\\n-Calculate the p-value\\n-Make a decision\\n\\nA very small p-value (e.g., 0.01) indicates that the observed data are highly unlikely to occur if the null hypothesis were true.\\n In other words, the data provide strong evidence against the null hypothesis.\\n'"
            ],
            "application/vnd.google.colaboratory.intrinsic+json": {
              "type": "string"
            }
          },
          "metadata": {},
          "execution_count": 9
        }
      ]
    },
    {
      "cell_type": "code",
      "source": [
        "#Question3: Compare and contrast the binomial and Bernoulli distributions.\n",
        "\"\"\"\n",
        "Similarities:\n",
        "\n",
        "Discrete: Both distributions are discrete, meaning they can only take on specific, distinct values.\n",
        "Binary outcomes: Both distributions model binary outcomes, where each trial can result in one of two possible outcomes (e.g., success or failure, 0 or 1, etc.).\n",
        "Probability parameters: Both distributions have probability parameters that determine the likelihood of each outcome.\n",
        "\n",
        "Differences:\n",
        "\n",
        "Number of trials: The main difference between the two distributions is the number of trials. The Bernoulli distribution models a single trial,\n",
        "while the binomial distribution models multiple trials (n > 1).\n",
        "Outcome variables: In a Bernoulli distribution, the outcome variable is a single binary value. In a binomial distribution,\n",
        "the outcome variable is the number of successes in n trials.\n",
        "Probability calculations: The probability calculations differ between the two distributions. The Bernoulli distribution calculates the probability of\n",
        "a single success or failure, while the binomial distribution calculates the probability of k successes in n trials.\n",
        "Parameter estimation: The parameters of the Bernoulli distribution are estimated using a single trial, while the parameters of the binomial distribution\n",
        "are estimated using multiple trials.\n",
        "\"\"\""
      ],
      "metadata": {
        "colab": {
          "base_uri": "https://localhost:8080/",
          "height": 140
        },
        "id": "O_lhNXNMmyDL",
        "outputId": "4aba884a-b439-4fec-8628-e48849de3ffb"
      },
      "execution_count": null,
      "outputs": [
        {
          "output_type": "execute_result",
          "data": {
            "text/plain": [
              "'\\nSimilarities:\\n\\nDiscrete: Both distributions are discrete, meaning they can only take on specific, distinct values.\\nBinary outcomes: Both distributions model binary outcomes, where each trial can result in one of two possible outcomes (e.g., success or failure, 0 or 1, etc.).\\nProbability parameters: Both distributions have probability parameters that determine the likelihood of each outcome.\\n\\nDifferences:\\n\\nNumber of trials: The main difference between the two distributions is the number of trials. The Bernoulli distribution models a single trial, \\nwhile the binomial distribution models multiple trials (n > 1).\\nOutcome variables: In a Bernoulli distribution, the outcome variable is a single binary value. In a binomial distribution,\\nthe outcome variable is the number of successes in n trials.\\nProbability calculations: The probability calculations differ between the two distributions. The Bernoulli distribution calculates the probability of\\na single success or failure, while the binomial distribution calculates the probability of k successes in n trials.\\nParameter estimation: The parameters of the Bernoulli distribution are estimated using a single trial, while the parameters of the binomial distribution\\nare estimated using multiple trials.\\n'"
            ],
            "application/vnd.google.colaboratory.intrinsic+json": {
              "type": "string"
            }
          },
          "metadata": {},
          "execution_count": 1
        }
      ]
    },
    {
      "cell_type": "code",
      "source": [
        "#Question 4: Under what conditions is the binomial distribution used, and how does it relate to the Bernoulli\n",
        "#distribution?\n",
        "\"\"\"\n",
        "conditions for Binomial Distribution:\n",
        "\n",
        "1.Fixed trials (n)\n",
        "2.2 outcomes (success/failure)\n",
        "3.Constant probability (p)\n",
        "4.Independent trials\n",
        "5.Relation to Bernoulli:\n",
        "\n",
        "Similarity-\n",
        "Binomial = multiple Bernoulli trials\n",
        "Counts successes in n trials\n",
        "\"\"\""
      ],
      "metadata": {
        "id": "qpeq3gYtmx_c",
        "colab": {
          "base_uri": "https://localhost:8080/",
          "height": 53
        },
        "outputId": "bf67bc4d-92ab-4b7a-bcac-c10b542740f7"
      },
      "execution_count": null,
      "outputs": [
        {
          "output_type": "execute_result",
          "data": {
            "text/plain": [
              "'\\nconditions for Binomial Distribution:\\n\\n1.Fixed trials (n)\\n2.2 outcomes (success/failure)\\n3.Constant probability (p)\\n4.Independent trials\\n5.Relation to Bernoulli:\\n\\nSimilarity-\\nBinomial = multiple Bernoulli trials\\nCounts successes in n trials\\n'"
            ],
            "application/vnd.google.colaboratory.intrinsic+json": {
              "type": "string"
            }
          },
          "metadata": {},
          "execution_count": 2
        }
      ]
    },
    {
      "cell_type": "code",
      "source": [
        "#Question5: What are the key properties of the Poisson distribution, and when is it appropriate to use this\n",
        "#distribution?\n",
        "\"\"\"\n",
        "Key Properties of the Poisson Distribution:\n",
        "Discrete Distribution: The Poisson distribution is a discrete probability distribution that models the number of events occurring\n",
        "in a fixed interval of time or space.\n",
        "Parameter (λ): It is characterized by a single parameter (lambda), which represents the average number of events in the given interval.\n",
        "Mean and Variance: Both the mean and variance of a Poisson distribution are equal to ( \\lambda ).\n",
        "Independence: Events occur independently of one another. The occurrence of one event does not affect the probability of another event occurring.\n",
        "\n",
        "When to Use the Poisson Distribution:\n",
        "Rare Events: It is often used for modeling the number of rare events in a fixed interval, such as the number of phone calls\n",
        "received by a call center in an hour or the number of accidents at a traffic intersection in a day.\n",
        "Fixed Interval: When you are interested in counting the number of occurrences of an event in a specific time period or spatial area.\n",
        "Constant Rate: When events happen at a constant average rate (lambda) and are independent of each other.\n",
        "\"\"\""
      ],
      "metadata": {
        "id": "FcqPdno1mx-W"
      },
      "execution_count": null,
      "outputs": []
    },
    {
      "cell_type": "code",
      "source": [
        "#Question6: Define the terms \"probability distribution\" and \"probability density function\" (PDF). How does a\n",
        "#PDF differ from a probability mass function (PMF)\n",
        "\"\"\"\n",
        "Probability Distribution:\n",
        "A probability distribution is a mathematical function that describes the probability\n",
        "of different values or ranges of values that a random variable can take.\n",
        "It assigns a probability to each possible outcome of a random experiment, and these probabilities must satisfy certain properties,\n",
        "such as being non-negative and summing up to 1.\n",
        "\n",
        "Probability Density Function (PDF):\n",
        "A probability density function (PDF) is a type of probability distribution that describes the probability of a continuous random variable\n",
        "taking on a specific value or range of values. It is a non-negative function, f(x), that integrates to 1 over the entire range of the random variable.\n",
        "The PDF is often denoted as f(x) or p(x).\n",
        "\n",
        "Probability Mass Function(PMF):\n",
        "A probability mass function (PMF) is a type of probability distribution that describes the probability of a discrete random variable\n",
        "taking on a specific value. It is a non-negative function, p(x), that sums up to 1 over all possible values of the random variable.\n",
        "\"\"\""
      ],
      "metadata": {
        "id": "Cz0huvB_mxso",
        "colab": {
          "base_uri": "https://localhost:8080/",
          "height": 140
        },
        "outputId": "142d5472-2ac5-4363-cdb7-2c9c4df3b804"
      },
      "execution_count": null,
      "outputs": [
        {
          "output_type": "execute_result",
          "data": {
            "text/plain": [
              "'\\nProbability Distribution:\\nA probability distribution is a mathematical function that describes the probability \\nof different values or ranges of values that a random variable can take. \\nIt assigns a probability to each possible outcome of a random experiment, and these probabilities must satisfy certain properties, \\nsuch as being non-negative and summing up to 1.\\n\\nProbability Density Function (PDF): \\nA probability density function (PDF) is a type of probability distribution that describes the probability of a continuous random variable\\ntaking on a specific value or range of values. It is a non-negative function, f(x), that integrates to 1 over the entire range of the random variable.\\nThe PDF is often denoted as f(x) or p(x).\\n\\nProbability Mass Function(PMF):\\nA probability mass function (PMF) is a type of probability distribution that describes the probability of a discrete random variable\\ntaking on a specific value. It is a non-negative function, p(x), that sums up to 1 over all possible values of the random variable.\\n'"
            ],
            "application/vnd.google.colaboratory.intrinsic+json": {
              "type": "string"
            }
          },
          "metadata": {},
          "execution_count": 1
        }
      ]
    },
    {
      "cell_type": "code",
      "source": [
        "#Question7: Explain the Central Limit Theorem (CLT) with example.\n",
        "\"\"\"\n",
        "Sample Size: The sample size should be sufficiently large (commonly n ≥ 30 is considered adequate).\n",
        "Independence: The samples should be independent of each other.\n",
        "Population Distribution: The original population can be any distribution (normal, uniform, skewed, etc.).\n",
        "\n",
        "population of students' test scores that are not normally distributed.\n",
        "Let's say the test scores range from 0 to 100, with most students scoring between 40 and 60, but a few scoring very low or very high.\n",
        "\"\"\""
      ],
      "metadata": {
        "id": "8KmPnFWZnQTB",
        "colab": {
          "base_uri": "https://localhost:8080/",
          "height": 87
        },
        "outputId": "4032258e-5663-4377-cf62-da2f09b6c153"
      },
      "execution_count": 1,
      "outputs": [
        {
          "output_type": "execute_result",
          "data": {
            "text/plain": [
              "\"\\nSample Size: The sample size should be sufficiently large (commonly n ≥ 30 is considered adequate).\\nIndependence: The samples should be independent of each other.\\nPopulation Distribution: The original population can be any distribution (normal, uniform, skewed, etc.).\\n\\npopulation of students' test scores that are not normally distributed. \\nLet's say the test scores range from 0 to 100, with most students scoring between 40 and 60, but a few scoring very low or very high.\\n\""
            ],
            "application/vnd.google.colaboratory.intrinsic+json": {
              "type": "string"
            }
          },
          "metadata": {},
          "execution_count": 1
        }
      ]
    },
    {
      "cell_type": "code",
      "source": [
        "#Question8: Compare z-scores and t-scores. When should you use a z-score, and when should a t-score be\n",
        "#applied instead?\n",
        "\"\"\"\n",
        "Z-scores:\n",
        "A z-score indicates how many standard deviations an element is from the mean.\n",
        "Z-scores are used when the population standard deviation (σ) is known.\n",
        "They are typically used for large sample sizes (n ≥ 30), where the Central Limit Theorem (CLT) applies, and the sampling\n",
        "distribution of the sample mean is approximately normal.\n",
        "\n",
        "T-scores:\n",
        "A t-score is similar to a z-score but is used when the population standard deviation (σ) is unknown.\n",
        "T-scores are used for smaller sample sizes (n < 30), where the CLT does not apply, and the sampling distribution of the sample mean is not approximately normal.\n",
        "T-scores are also used when the population standard deviation is unknown, and the sample standard deviation is used as an estimate.\n",
        "\"\"\""
      ],
      "metadata": {
        "id": "7iDLdtEFnUSQ",
        "colab": {
          "base_uri": "https://localhost:8080/",
          "height": 105
        },
        "outputId": "e2077a15-8a32-460b-debb-d714838ee9aa"
      },
      "execution_count": 2,
      "outputs": [
        {
          "output_type": "execute_result",
          "data": {
            "text/plain": [
              "'\\nZ-scores:\\nA z-score indicates how many standard deviations an element is from the mean.\\nZ-scores are used when the population standard deviation (σ) is known.\\nThey are typically used for large sample sizes (n ≥ 30), where the Central Limit Theorem (CLT) applies, and the sampling\\ndistribution of the sample mean is approximately normal.\\n\\nT-scores:\\nA t-score is similar to a z-score but is used when the population standard deviation (σ) is unknown.\\nT-scores are used for smaller sample sizes (n < 30), where the CLT does not apply, and the sampling distribution of the sample mean is not approximately normal.\\nT-scores are also used when the population standard deviation is unknown, and the sample standard deviation is used as an estimate.\\n'"
            ],
            "application/vnd.google.colaboratory.intrinsic+json": {
              "type": "string"
            }
          },
          "metadata": {},
          "execution_count": 2
        }
      ]
    },
    {
      "cell_type": "code",
      "source": [
        "\"\"\"Question9: Given a sample mean of 105, a population mean of 100, a standard deviation of 15, and a sample\n",
        "size of 25, calculate the z-score and p-value. Based on a significance level of 0.05, do you reject or fail to\n",
        "reject the null hypothesis?\n",
        "\n",
        " Task: Write Python code to calculate the z-score and p-value for the given data.\n",
        "\n",
        "Objective: Apply the formula for the z-score and interpret the p-value for hypothesis testing\"\"\"\n",
        "import scipy.stats as stats\n",
        "import numpy as np\n",
        "\n",
        "# Given values\n",
        "sample_mean = 105       # Sample mean\n",
        "population_mean = 100   # Population mean\n",
        "standard_deviation = 15 # Standard deviation\n",
        "sample_size = 25        # Sample size\n",
        "\n",
        "# Step 1: Calculate the z-score\n",
        "z_score = (sample_mean - population_mean) / (standard_deviation / np.sqrt(sample_size))\n",
        "print(f\"Z-score: {z_score}\")\n",
        "\n",
        "# Step 2: Calculate the p-value for a two-tailed test\n",
        "p_value = 2 * (1 - stats.norm.cdf(abs(z_score)))\n",
        "print(f\"P-value: {p_value}\")\n",
        "\n",
        "# Step 3: Make a decision based on the p-value\n",
        "alpha = 0.05  # Significance level\n",
        "if p_value < alpha:\n",
        "    print(\"Reject the null hypothesis.\")\n",
        "else:\n",
        "    print(\"Fail to reject the null hypothesis.\")"
      ],
      "metadata": {
        "colab": {
          "base_uri": "https://localhost:8080/"
        },
        "id": "_CYQn9aenb5L",
        "outputId": "55d34061-e619-4e4e-f8f3-977151a9dbb7"
      },
      "execution_count": 2,
      "outputs": [
        {
          "output_type": "stream",
          "name": "stdout",
          "text": [
            "Z-score: 1.6666666666666667\n",
            "P-value: 0.09558070454562939\n",
            "Fail to reject the null hypothesis.\n"
          ]
        }
      ]
    },
    {
      "cell_type": "code",
      "source": [
        "\"\"\"Question10: Simulate a binomial distribution with 10 trials and a probability of success of 0.6 using Python.\n",
        "Generate 1,000 samples and plot the distribution. What is the expected mean and variance?\n",
        "\n",
        "Task: Use Python to generate the data, plot the distribution, and calculate the mean and variance.\n",
        "\n",
        "Objective: Understand the properties of a binomial distribution and verify them through simulation.\"\"\"\n",
        "import numpy as np\n",
        "import matplotlib.pyplot as plt\n",
        "\n",
        "# Step 1: Set the parameters\n",
        "n = 10  # Number of trials\n",
        "p = 0.6  # Probability of success\n",
        "num_samples = 1000  # Number of samples to generate\n",
        "\n",
        "# Step 2: Generate samples from a binomial distribution\n",
        "samples = np.random.binomial(n, p, num_samples)\n",
        "\n",
        "# Step 3: Plot the distribution\n",
        "plt.hist(samples, bins=np.arange(-0.5, n + 1.5, 1), density=True, alpha=0.7, color='blue', edgecolor='black')\n",
        "plt.title('Binomial Distribution (n=10, p=0.6)')\n",
        "plt.xlabel('Number of Successes')\n",
        "plt.ylabel('Probability')\n",
        "plt.grid(axis='y', alpha=0.75)\n",
        "plt.show()\n",
        "\n",
        "# Step 4: Calculate the expected mean and variance\n",
        "expected_mean = n * p\n",
        "expected_variance = n * p * (1 - p)\n",
        "\n",
        "# Print expected values\n",
        "print(f\"Expected Mean: {expected_mean}\")\n",
        "print(f\"Expected Variance: {expected_variance}\")\n",
        "\n",
        "# Step 5: Calculate the mean and variance from the samples\n",
        "sample_mean = np.mean(samples)\n",
        "sample_variance = np.var(samples)\n",
        "\n",
        "# Print sample values\n",
        "print(f\"Sample Mean: {sample_mean}\")\n",
        "print(f\"Sample Variance: {sample_variance}\")"
      ],
      "metadata": {
        "colab": {
          "base_uri": "https://localhost:8080/",
          "height": 541
        },
        "id": "mzjACMQqngyS",
        "outputId": "3bfd3775-ec2f-4098-922b-fda970ef5d5b"
      },
      "execution_count": 1,
      "outputs": [
        {
          "output_type": "display_data",
          "data": {
            "text/plain": [
              "<Figure size 640x480 with 1 Axes>"
            ],
            "image/png": "[encoded data removed]"
          },
          "metadata": {}
        },
        {
          "output_type": "stream",
          "name": "stdout",
          "text": [
            "Expected Mean: 6.0\n",
            "Expected Variance: 2.4000000000000004\n",
            "Sample Mean: 6.029\n",
            "Sample Variance: 2.4801590000000004\n"
          ]
        }
      ]
    },
    {
      "cell_type": "code",
      "source": [],
      "metadata": {
        "id": "ZmAFSBXvnny_"
      },
      "execution_count": null,
      "outputs": []
    }
  ]
}