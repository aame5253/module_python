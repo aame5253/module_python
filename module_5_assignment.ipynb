{
 "cells": [
  {
   "cell_type": "code",
   "execution_count": 6,
   "id": "4fbeb8fc-b9f4-443a-abe7-ba01a9f794c4",
   "metadata": {},
   "outputs": [
    {
     "name": "stdout",
     "output_type": "stream",
     "text": [
      "o\n",
      "r\n",
      "Two things are \n",
      "ite: the universe and human stupidity; and I'm not sure about the universe.\n",
      "Two things are infinite: the univers\n",
      "t the universe.\n",
      "ppon\n",
      "wianthie npyd sa ur\n",
      "nrocpop\n"
     ]
    }
   ],
   "source": [
    "#1. discuss string splicing and provide examples\n",
    "#STRINGS >>STRING is a sequence of characters represent & manipulate textual data . characters are represented\n",
    "#using numerical value. strings are immutable.\n",
    "#CONCEPT OF STRING SPLICING\n",
    "string1='popcorn'\n",
    "print(string1[4])\n",
    "print(string1[-2])\n",
    "'''String slicing in Python is a technique to extract a portion (substring) \n",
    "of a string by specifying a start and end index. It allows you to access specific characters\n",
    "or a range of characters within a string.'''#DENOTED BY[:]\n",
    "quote=\"Two things are infinite: the universe and human stupidity; and I'm not sure about the universe.\"\n",
    "print(quote[0:15])#start index is inclusive while end index is exclusive\n",
    "print(quote[20:])#without and end index it will print all the indexes by default\n",
    "print(quote[:36])#without start index it will print all the indexes by default from the start\n",
    "print(quote[-15:])#negative indexing starts from the end of the string\n",
    "#syntax[start:end:step]\n",
    "print(string1[0::2])#default is 1 so when step is 2 it skips on charcater only similar to range \n",
    "print(quote[1::5])\n",
    "#reverse iteration can be done using -ve indexing\n",
    "print(string1[::-1])"
   ]
  },
  {
   "cell_type": "code",
   "execution_count": 8,
   "id": "9b0c9c43-e6c2-486c-a423-0e292a255b06",
   "metadata": {},
   "outputs": [
    {
     "name": "stdout",
     "output_type": "stream",
     "text": [
      "['pause500', 'thyronorm', 'telmikind250mg', 'eyedrops', 'Omeprazole', ', ibuprofen']\n",
      "[1, 2, 3, 1, 2, 3, 1, 2, 3]\n",
      "True\n",
      "False\n",
      "['canvas', 'clay', 'colors', 'compass', 'notepad', 'pencil', 'sketchbook']\n",
      "6\n",
      "7\n",
      "['.pdf', '.jpg', '.py', '.txt']\n",
      "['.pdf', '.jpg', '.py', '.txt']\n",
      "['.pdf', '.jpg', '.py', '.txt', '.png']\n",
      "['.pdf', '.jpg', '.py', '.txt', '.png']\n",
      "['.pdf', '.jpg', '.py', '.txt', '.png', '.mp']\n",
      "['.pdf', '.jpg', '.py', '.txt', '.png']\n",
      "<built-in method upper of str object at 0x72e9c438fa30> <built-in method upper of str object at 0x72e9c438fb70> <built-in method upper of str object at 0x72e9c438fb30> <built-in method upper of str object at 0x72e9c438f3b0> <built-in method upper of str object at 0x72e9c438faf0> ['Gujarat', 'Maharashtra', 'Kerala', 'Orissa', 'Punjab']\n",
      "[9, 16, 25, 36, 49, 64]\n"
     ]
    }
   ],
   "source": [
    "#2.explain the key features of lists in python\n",
    "#LISTS>>ordered collection of item'[]',heterogenous can store any data type , lists are mutable.\n",
    "#EXTENDIND LIST\n",
    "#extend()>>adds multiple elements at the end of list\n",
    "meds_mom=['pause500','thyronorm','telmikind250mg']\n",
    "meds_aame=['eyedrops','Omeprazole',', ibuprofen']\n",
    "meds_mom.extend(meds_aame)\n",
    "meds_aame.extend(meds_mom)\n",
    "#the 1st list will remain the same the 2nd list will be extended over the 1st one.\n",
    "print(meds_mom)\n",
    "\n",
    "#LIST CONCATENATION\n",
    "n=[1,2,3]\n",
    "print(n*3)\n",
    "#no_=list.range[5]# generate a sequence of numbers from 0 to 5\n",
    "#print(no_.range[5] * 2)\n",
    "\n",
    "#MEMBERSHIP IN LIST\n",
    "stationary=[\"pencil\",\"colors\",\"sketchbook\",\"notepad\",\"compass\",\"clay\",\"canvas\"]\n",
    "print('pencil' in stationary)\n",
    "print('marker'in stationary)\n",
    "print(sorted(stationary))# sorts it alphabetically\n",
    "print(stationary.index('canvas'))#provides the index of element\n",
    "print(len(stationary))#provides no. of elements in list\n",
    "\n",
    "#SHALLOW COPY AND DEEP COPY\n",
    "#SHALLOW COPY>> makes and store the exact copy of a list inside a list or variable so if a change is made it is \n",
    "#reflected in both the original and the copy\n",
    "#DEEP COPY>> makes a copy of a list and stores it in a new list or variable\n",
    "#so if a change is made it is reflected only in the original list and not in the copy\n",
    "file_1=['.pdf','.jpg','.py','.txt']#example for shallow copy\n",
    "demo=file_1\n",
    "print(demo)\n",
    "print(file_1)\n",
    "file_1.append('.png')\n",
    "print(demo)\n",
    "\n",
    "permnt=file_1.copy()#example for deep copy\n",
    "print(permnt)\n",
    "permnt.append('.mp')\n",
    "print(permnt)\n",
    "print(file_1)\n",
    "\n",
    "#LIST COMPREHENTION\n",
    "#an easy to read, compact, and elegant way of creating a list from any existing iterable object.\n",
    "#List comprehension in Python is a concise way to create lists from existing iterable objects \n",
    "# (like lists, tuples, strings, etc.) by applying an expression to each item and optionally filtering \n",
    "# the results based on a condition.for example\n",
    "states =['gujarat','maharashtra','kerala','orissa','punjab']\n",
    "for state in states:#DOUBT\n",
    "    print(state.upper,end=\" \")\n",
    "#concise code\n",
    "digits=[3,4,5,6,7,8]\n",
    "print([state.capitalize() for state in states])\n",
    "print([n**2 for n in digits])"
   ]
  },
  {
   "cell_type": "code",
   "execution_count": 7,
   "id": "5b67f1b7-9585-4b2f-9336-6b94d12a7702",
   "metadata": {},
   "outputs": [
    {
     "name": "stdout",
     "output_type": "stream",
     "text": [
      "<class 'list'>\n",
      "['apple', 'banana', 'cherry', 'kiwi', 'orange', 'pear', 'peach', 'lichi']\n",
      "apple\n",
      "banana\n",
      "['orange', 'pear', 'peach', 'lichi']\n",
      "['apple', 'banana', 'cherry']\n",
      "['lichi', 'peach', 'pear', 'orange', 'kiwi', 'cherry', 'banana', 'apple']\n",
      "['banana', 'kiwi']\n",
      "['comedy', 'action', 'thriller', 'romatic', 'drama']\n",
      "['comedy', 'action', 'thriller', 'romatic', 'drama', 'frictional']\n",
      "['comedy', 'action', 'thriller', 'Horror', 'romatic', 'drama', 'frictional']\n",
      "['action', 'thriller', 'Horror', 'romatic', 'drama', 'frictional']\n",
      "['action', 'thriller', 'Horror', 'romatic', 'drama']\n",
      "[]\n"
     ]
    }
   ],
   "source": [
    "#3.describe how to access , modify and delete elements in a list with examples\n",
    "#LISTS>>ordered collection of item'[]',heterogenous can store any data type , lists are mutable.\n",
    "#for example\n",
    "fruits=['apple','banana','cherry','kiwi','orange','pear','peach','lichi']\n",
    "print(type(fruits))\n",
    "print(fruits)\n",
    "#accessing lists>> calling for a particular elements ,using index for example:\n",
    "print(fruits[0])\n",
    "print(fruits[1])\n",
    "#list splicing>> obtaining a portion of list\n",
    "print(fruits[4:])\n",
    "print(fruits[:3])# 3 is excluded\n",
    "print(fruits[::-1])#-ve indexing iteration\n",
    "print(fruits[1:5:2])#2 is the step size\n",
    "#modifying list\n",
    "genre=['comedy','action','thriller','romatic','drama']\n",
    "print(genre)\n",
    "(genre.append('frictional'))#adds an element at the end by default\n",
    "print(genre)\n",
    "(genre.insert(3,'Horror'))#inserts an element at a particular index\n",
    "print(genre)\n",
    "#Deleting list items\n",
    "(genre.remove('comedy'))#removes an element\n",
    "print(genre)\n",
    "(genre.pop())#removes an element at a particular index\n",
    "print(genre)\n",
    "(genre.clear())#empty list\n",
    "print(genre)\n",
    "del genre#deletes the variable\n",
    "#print(genre) shows error"
   ]
  },
  {
   "cell_type": "code",
   "execution_count": 9,
   "id": "9c22cbcd-2b00-445e-8484-b34d3563a3c1",
   "metadata": {},
   "outputs": [
    {
     "name": "stdout",
     "output_type": "stream",
     "text": [
      "<class 'list'>\n",
      "['apple', 'banana', 'cherry', 'kiwi', 'orange', 'pear', 'peach', 'lichi']\n",
      "apple\n",
      "banana\n",
      "<class 'tuple'>\n",
      "['comedy', 'action', 'thriller', 'romatic', 'drama']\n",
      "['comedy', 'action', 'thriller', 'romatic', 'drama', 'frictional']\n",
      "['comedy', 'action', 'thriller', 'Horror', 'romatic', 'drama', 'frictional']\n",
      "True\n",
      "2.2\n"
     ]
    },
    {
     "data": {
      "text/plain": [
       "\"USE CASE: use tuples as a data structure where you don't want to modify data\\nfor exaomple storing info. like aadhar_card_no. , id_no. , etc\""
      ]
     },
     "execution_count": 9,
     "metadata": {},
     "output_type": "execute_result"
    }
   ],
   "source": [
    "#4.compare and contrast tuples and list with examples\n",
    "#LISTS>>ordered collection of item'[]',heterogenous can store any data type , lists are mutable.\n",
    "#syntax'[]'\n",
    "#The list is better for performing operations, such as insertion and deletion.\n",
    "#Unexpected changes and errors are more likely to occur\n",
    "#TUPLES>>tuples are ordered collection of elements ' hetergenous , and they are immutable \n",
    "#syntax'()'\n",
    "#A Tuple data type is appropriate for accessing the elements\n",
    "#Because tuples don’t change they are far less error-prone.\n",
    "fruits=['apple','banana','cherry','kiwi','orange','pear','peach','lichi']\n",
    "print(type(fruits))\n",
    "print(fruits)\n",
    "#accessing lists>> calling for a particular elements ,using index for example:\n",
    "print(fruits[0])\n",
    "print(fruits[1])\n",
    "t=(1,'a',True,2.2)\n",
    "print(type(t))\n",
    "#modifying list\n",
    "genre=['comedy','action','thriller','romatic','drama']\n",
    "print(genre)\n",
    "(genre.append('frictional'))#adds an element at the end by default\n",
    "print(genre)\n",
    "(genre.insert(3,'Horror'))#inserts an element at a particular index\n",
    "print(genre)\n",
    "#ASSESSING TUPLES\n",
    "print(t[2])\n",
    "print(t[-1])\n",
    "#MODIFYING TUPLES\n",
    "#t[0]=100 will show as it is immutable\n",
    "#t[2]='suzy'\n",
    "'''USE CASE: use tuples as a data structure where you don't want to modify data\n",
    "for exaomple storing info. like aadhar_card_no. , id_no. , etc'''"
   ]
  },
  {
   "cell_type": "code",
   "execution_count": 10,
   "id": "2e6ecf42-c4d2-41e9-b795-9f4750653d67",
   "metadata": {},
   "outputs": [
    {
     "name": "stdout",
     "output_type": "stream",
     "text": [
      "{'Goat', 'Lion', 'Tiger', 'Dog', 'Donkey', 'Horse', 'goat'}\n",
      "{1, 2, 3}\n",
      "<class 'set'>\n",
      "<class 'list'>\n",
      "{700, 100, 500, 200, 1000, 300}\n",
      "700 \n",
      "100 \n",
      "500 \n",
      "200 \n",
      "1000 \n",
      "300 \n",
      "{'Donkey', 'Goat', 'Tiger', 'Dog', 'Lion', 'Horse', 'rabbit', 'goat'}\n",
      "{'Goat', 'Tiger', 'Dog', 'Lion', 'Horse', 'rabbit', 'goat'}\n",
      "{'Goat', 'Tiger', 'Dog', 'Lion', 'Horse', 'rabbit', 'goat'}\n",
      "{'Goat', 'Tiger', 'Dog', 'Horse', 'rabbit', 'goat'}\n",
      "{'Tiger', 'Dog', 'rabbit', 'Goat', 'Horse', 'a', 't', 'c', 'goat'}\n",
      "{'cat', 'Tiger', 'Dog', 'rabbit', 'Goat', 'Horse', 'a', 't', 'c', 'goat'}\n",
      "{(500, 1000, 700), (900, 400), (100, 200, 300)}\n",
      "<class 'set'>\n"
     ]
    }
   ],
   "source": [
    "#5. Describe the key features of sets and provide examples of their use\n",
    "#SETS>> unordered and unique collection of elements . doesn't allow any duplicate elements without indexing or splicing\n",
    "animals={'Lion','Tiger','Goat','goat','Lion','Horse','Donkey','Horse','Dog'}\n",
    "print(animals)#duplicates are deleted notice carefully goat & Goat are case sensitive\n",
    "list_1=[1,2,3]\n",
    "print(set(list_1))#list to set\n",
    "print(type(set(list_1)))\n",
    "list_1=list #set to list\n",
    "print(list_1)\n",
    "set_1={100,200,200,300,100,500,700,1000,500,700}\n",
    "print(set_1)\n",
    "#set_1={100,200,300{500,700}} shows error as it is unhashed\n",
    "#unhashed means the value set inside set is mutable whereas it should be immutable same for list as well only tuples\n",
    "#can be used as they are immutable\n",
    "\n",
    "#set_2={100,200,200,300,500,1000,100,700,200,100(900,400)}\n",
    "#print(set_2)\n",
    "\n",
    "for num in set_1:\n",
    "    print(num,end=' ')\n",
    "    print()\n",
    "\n",
    "#MODIFICATION IN SETS\n",
    "animals={'Lion','Tiger','Goat','goat','Lion','Horse','Donkey','Horse','Dog'} \n",
    "(animals.add('rabbit'))#adds randomly \n",
    "print(animals)\n",
    "(animals.pop())#removes an element randomly\n",
    "print(animals)\n",
    "#(animals.remove(3))#error\n",
    "print(animals)\n",
    "(animals.discard('3'))#removes an element if not present in set remains same without an error\n",
    "(animals.discard('Lion'))\n",
    "print(animals)\n",
    "(animals.update('cat'))#takes it in a loop\n",
    "print(animals)\n",
    "(animals.update(['cat']))#take it as whole\n",
    "print(animals)\n",
    "\n",
    "set_2={(100,200,300),(500,1000,700),(900,400)}\n",
    "print(set_2) \n",
    "print(type(set_2))"
   ]
  },
  {
   "cell_type": "code",
   "execution_count": null,
   "id": "6c311ea9-27b3-4297-86ed-dd45097022f1",
   "metadata": {},
   "outputs": [],
   "source": [
    "#6. Discuss the use cases of tuples and sets in Python programming\n",
    "'''Tuples:\n",
    "Storing coordinates: point = (10, 20)\n",
    "Representing database records: record = (\"John Doe\", 30, \"Engineer\")\n",
    "Sets:\n",
    "Removing duplicates from a list: unique_numbers = set(numbers_list)\n",
    "Finding common elements in two lists: common_elements = set(list1).intersection(set(list2))\n",
    "Checking if a user has a specific permission: if \"admin\" in user_permissions:'''"
   ]
  },
  {
   "cell_type": "code",
   "execution_count": 11,
   "id": "4a16ef02-d790-4b2c-b22b-75f74f9f9c10",
   "metadata": {},
   "outputs": [
    {
     "name": "stdout",
     "output_type": "stream",
     "text": [
      "{'show': 'suits', 'name': 'harvey specter', 'job': 'lawyer', 'contact': 'talk to donna', 'address': 'newyork', 'company': 'perason hardman'}\n",
      "5\n",
      "dict_keys(['show', 'name', 'job', 'contact', 'address', 'company'])\n",
      "dict_values(['suits', 'harvey specter', 'lawyer', 'talk to donna', 'newyork', 'perason hardman'])\n",
      "dict_items([('show', 'suits'), ('name', 'harvey specter'), ('job', 'lawyer'), ('contact', 'talk to donna'), ('address', 'newyork'), ('company', 'perason hardman')])\n",
      "five\n",
      "{'1': ['o', 'n', 'e'], '2': 'two', '3': 'three', '4': ('f', 'o', 'u', 'r')}\n",
      "{}\n",
      "{'1': ['o', 'n', 'e'], '2': 'two', '3': 'three', '4': ('f', 'o', 'u', 'r'), '5': 'five'}\n"
     ]
    }
   ],
   "source": [
    "#7. Describe how to add modify and delete items in a dictionary with examples\n",
    "#DICTIONARY<< dict is a data structure that stores data as key value pair.\n",
    "#keys are unique and immutable . \n",
    "'''dict are unordered but from python 3.7 version dict retains the order of insertion\n",
    "this means that if you iterate over a dict the ites will be returned in the order they were added.'''\n",
    "#ADDING ITEMS IN DICTS\n",
    "details={'show':'suits','name':'mike ross','job':'lawyer','contact':'talk to donna'}\n",
    "count={'1':['o','n','e'],'2':'two','3':'three','4':('f','o','u','r'),'5':'five'}\n",
    "details['name']='harvey specter'\n",
    "details['address']='newyork'\n",
    "d1={'company':'perason hardman'}\n",
    "details.update(d1)\n",
    "print(details)#dicts are mutable and updated value will be used\n",
    "#MODIFICATON IN DICTS\n",
    "print(len(count))# gives total no. of key value pairs\n",
    "print(details.keys())#total keys and there names\n",
    "print(details.values())#total values and there order\n",
    "print(details.items())#total key value pairs and there order\n",
    "count_0=count.copy()#deep copy is made\n",
    "#DELETING IN DICTS\n",
    "print(count.pop('5'))#deletes that mentioned pair\n",
    "print(count)\n",
    "count.clear()#empty dict\n",
    "print(count)\n",
    "print(count_0)\n",
    "del count"
   ]
  },
  {
   "cell_type": "code",
   "execution_count": 12,
   "id": "829736e7-b7e0-48c9-a86a-24aaba5781a6",
   "metadata": {},
   "outputs": [
    {
     "name": "stdout",
     "output_type": "stream",
     "text": [
      "['o', 'n', 'e']\n",
      "('f', 'o', 'u', 'r')\n"
     ]
    },
    {
     "data": {
      "text/plain": [
       "'Immutability is essential for keys because it ensures that the dictionary can efficiently look up values\\nbased on their keys. If a key was mutable, its hash value could change, making it impossible to find the associated value\\nin the dictionary'"
      ]
     },
     "execution_count": 12,
     "metadata": {},
     "output_type": "execute_result"
    }
   ],
   "source": [
    "#8. Discuss the importance of dictionary keys being immutable and provide examples\n",
    "'''rules of defining keys>> keys can be int,float,string,booltuples or \n",
    " and connot be special characters ,list,dicts or sets'''\n",
    "d={1:'abc'}\n",
    "d={1.1:'abc'}\n",
    "d={True:\"somevalue\"}\n",
    "#d={'@':123}\n",
    "#s={[1,2,3]:'value'}\n",
    "#d={{123:'nada'}}\n",
    "#d={{123}:'none'}:'lola'}\n",
    "d={(1,2,3):'value'}\n",
    "count={'1':['o','n','e'],'2':'two','3':'three','4':('f','o','u','r'),'5':'five'}\n",
    "print(count['1'])#returns a list\n",
    "print(count['4'])#returns a tuple\n",
    "'''Immutability is essential for keys because it ensures that the dictionary can efficiently look up values\n",
    "based on their keys. If a key was mutable, its hash value could change, making it impossible to find the associated value\n",
    "in the dictionary'''"
   ]
  },
  {
   "cell_type": "code",
   "execution_count": null,
   "id": "96234c3b-9df7-451a-8923-bfd2b26f50a8",
   "metadata": {},
   "outputs": [],
   "source": []
  }
 ],
 "metadata": {
  "kernelspec": {
   "display_name": "Python 3 (ipykernel)",
   "language": "python",
   "name": "python3"
  },
  "language_info": {
   "codemirror_mode": {
    "name": "ipython",
    "version": 3
   },
   "file_extension": ".py",
   "mimetype": "text/x-python",
   "name": "python",
   "nbconvert_exporter": "python",
   "pygments_lexer": "ipython3",
   "version": "3.10.8"
  }
 },
 "nbformat": 4,
 "nbformat_minor": 5
}
